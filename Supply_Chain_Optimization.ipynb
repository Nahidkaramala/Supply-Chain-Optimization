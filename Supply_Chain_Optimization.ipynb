{
 "cells": [
  {
   "cell_type": "code",
   "execution_count": 1,
   "id": "f9400d3f-e93e-4823-a71f-9355386ce1a5",
   "metadata": {},
   "outputs": [],
   "source": [
    "import pandas as pd"
   ]
  },
  {
   "cell_type": "markdown",
   "id": "795bd045-16c1-4211-8871-942d5ee6e2f4",
   "metadata": {},
   "source": [
    "# OrderList\n",
    "Contains historical records of orders, their respective routing, and costs."
   ]
  },
  {
   "cell_type": "code",
   "execution_count": 74,
   "id": "a8d6fa8f-a02a-4fb1-97ce-7eca23f41d72",
   "metadata": {},
   "outputs": [
    {
     "data": {
      "text/html": [
       "<div>\n",
       "<style scoped>\n",
       "    .dataframe tbody tr th:only-of-type {\n",
       "        vertical-align: middle;\n",
       "    }\n",
       "\n",
       "    .dataframe tbody tr th {\n",
       "        vertical-align: top;\n",
       "    }\n",
       "\n",
       "    .dataframe thead th {\n",
       "        text-align: right;\n",
       "    }\n",
       "</style>\n",
       "<table border=\"1\" class=\"dataframe\">\n",
       "  <thead>\n",
       "    <tr style=\"text-align: right;\">\n",
       "      <th></th>\n",
       "      <th>Order ID</th>\n",
       "      <th>Order Date</th>\n",
       "      <th>Origin Port</th>\n",
       "      <th>Carrier</th>\n",
       "      <th>TPT</th>\n",
       "      <th>Service Level</th>\n",
       "      <th>Ship ahead day count</th>\n",
       "      <th>Ship Late Day count</th>\n",
       "      <th>Customer</th>\n",
       "      <th>Product ID</th>\n",
       "      <th>Plant Code</th>\n",
       "      <th>Destination Port</th>\n",
       "      <th>Unit quantity</th>\n",
       "      <th>Weight</th>\n",
       "    </tr>\n",
       "  </thead>\n",
       "  <tbody>\n",
       "    <tr>\n",
       "      <th>0</th>\n",
       "      <td>1447296447</td>\n",
       "      <td>5/26/2013</td>\n",
       "      <td>PORT09</td>\n",
       "      <td>V44_3</td>\n",
       "      <td>1</td>\n",
       "      <td>CRF</td>\n",
       "      <td>3</td>\n",
       "      <td>0</td>\n",
       "      <td>V55555_53</td>\n",
       "      <td>1700106</td>\n",
       "      <td>PLANT16</td>\n",
       "      <td>PORT09</td>\n",
       "      <td>808</td>\n",
       "      <td>14.30</td>\n",
       "    </tr>\n",
       "    <tr>\n",
       "      <th>1</th>\n",
       "      <td>1447158015</td>\n",
       "      <td>5/26/2013</td>\n",
       "      <td>PORT09</td>\n",
       "      <td>V44_3</td>\n",
       "      <td>1</td>\n",
       "      <td>CRF</td>\n",
       "      <td>3</td>\n",
       "      <td>0</td>\n",
       "      <td>V55555_53</td>\n",
       "      <td>1700106</td>\n",
       "      <td>PLANT16</td>\n",
       "      <td>PORT09</td>\n",
       "      <td>3188</td>\n",
       "      <td>87.94</td>\n",
       "    </tr>\n",
       "    <tr>\n",
       "      <th>2</th>\n",
       "      <td>1447138899</td>\n",
       "      <td>5/26/2013</td>\n",
       "      <td>PORT09</td>\n",
       "      <td>V44_3</td>\n",
       "      <td>1</td>\n",
       "      <td>CRF</td>\n",
       "      <td>3</td>\n",
       "      <td>0</td>\n",
       "      <td>V55555_53</td>\n",
       "      <td>1700106</td>\n",
       "      <td>PLANT16</td>\n",
       "      <td>PORT09</td>\n",
       "      <td>2331</td>\n",
       "      <td>61.20</td>\n",
       "    </tr>\n",
       "    <tr>\n",
       "      <th>3</th>\n",
       "      <td>1447363528</td>\n",
       "      <td>5/26/2013</td>\n",
       "      <td>PORT09</td>\n",
       "      <td>V44_3</td>\n",
       "      <td>1</td>\n",
       "      <td>CRF</td>\n",
       "      <td>3</td>\n",
       "      <td>0</td>\n",
       "      <td>V55555_53</td>\n",
       "      <td>1700106</td>\n",
       "      <td>PLANT16</td>\n",
       "      <td>PORT09</td>\n",
       "      <td>847</td>\n",
       "      <td>16.16</td>\n",
       "    </tr>\n",
       "    <tr>\n",
       "      <th>4</th>\n",
       "      <td>1447363981</td>\n",
       "      <td>5/26/2013</td>\n",
       "      <td>PORT09</td>\n",
       "      <td>V44_3</td>\n",
       "      <td>1</td>\n",
       "      <td>CRF</td>\n",
       "      <td>3</td>\n",
       "      <td>0</td>\n",
       "      <td>V55555_53</td>\n",
       "      <td>1700106</td>\n",
       "      <td>PLANT16</td>\n",
       "      <td>PORT09</td>\n",
       "      <td>2163</td>\n",
       "      <td>52.34</td>\n",
       "    </tr>\n",
       "  </tbody>\n",
       "</table>\n",
       "</div>"
      ],
      "text/plain": [
       "     Order ID Order Date Origin Port Carrier  TPT Service Level  \\\n",
       "0  1447296447  5/26/2013      PORT09   V44_3    1           CRF   \n",
       "1  1447158015  5/26/2013      PORT09   V44_3    1           CRF   \n",
       "2  1447138899  5/26/2013      PORT09   V44_3    1           CRF   \n",
       "3  1447363528  5/26/2013      PORT09   V44_3    1           CRF   \n",
       "4  1447363981  5/26/2013      PORT09   V44_3    1           CRF   \n",
       "\n",
       "   Ship ahead day count  Ship Late Day count   Customer  Product ID  \\\n",
       "0                     3                    0  V55555_53     1700106   \n",
       "1                     3                    0  V55555_53     1700106   \n",
       "2                     3                    0  V55555_53     1700106   \n",
       "3                     3                    0  V55555_53     1700106   \n",
       "4                     3                    0  V55555_53     1700106   \n",
       "\n",
       "  Plant Code Destination Port  Unit quantity  Weight  \n",
       "0    PLANT16           PORT09            808   14.30  \n",
       "1    PLANT16           PORT09           3188   87.94  \n",
       "2    PLANT16           PORT09           2331   61.20  \n",
       "3    PLANT16           PORT09            847   16.16  \n",
       "4    PLANT16           PORT09           2163   52.34  "
      ]
     },
     "execution_count": 74,
     "metadata": {},
     "output_type": "execute_result"
    }
   ],
   "source": [
    "df_OrderList= pd.read_csv(\"OrderList.csv\")\n",
    "df_OrderList.head()"
   ]
  },
  {
   "cell_type": "code",
   "execution_count": 75,
   "id": "42730053-7913-45c3-8981-8a8bdfda4fae",
   "metadata": {},
   "outputs": [
    {
     "name": "stdout",
     "output_type": "stream",
     "text": [
      "<class 'pandas.core.frame.DataFrame'>\n",
      "RangeIndex: 9215 entries, 0 to 9214\n",
      "Data columns (total 14 columns):\n",
      " #   Column                Non-Null Count  Dtype  \n",
      "---  ------                --------------  -----  \n",
      " 0   Order ID              9215 non-null   int64  \n",
      " 1   Order Date            9215 non-null   object \n",
      " 2   Origin Port           9215 non-null   object \n",
      " 3   Carrier               9215 non-null   object \n",
      " 4   TPT                   9215 non-null   int64  \n",
      " 5   Service Level         9215 non-null   object \n",
      " 6   Ship ahead day count  9215 non-null   int64  \n",
      " 7   Ship Late Day count   9215 non-null   int64  \n",
      " 8   Customer              9215 non-null   object \n",
      " 9   Product ID            9215 non-null   int64  \n",
      " 10  Plant Code            9215 non-null   object \n",
      " 11  Destination Port      9215 non-null   object \n",
      " 12  Unit quantity         9215 non-null   int64  \n",
      " 13  Weight                9215 non-null   float64\n",
      "dtypes: float64(1), int64(6), object(7)\n",
      "memory usage: 1008.0+ KB\n"
     ]
    }
   ],
   "source": [
    "df_OrderList.info()"
   ]
  },
  {
   "cell_type": "code",
   "execution_count": 76,
   "id": "b1a62b5e-8650-4d63-8bdb-e48bf3e2d663",
   "metadata": {},
   "outputs": [
    {
     "data": {
      "text/html": [
       "<div>\n",
       "<style scoped>\n",
       "    .dataframe tbody tr th:only-of-type {\n",
       "        vertical-align: middle;\n",
       "    }\n",
       "\n",
       "    .dataframe tbody tr th {\n",
       "        vertical-align: top;\n",
       "    }\n",
       "\n",
       "    .dataframe thead th {\n",
       "        text-align: right;\n",
       "    }\n",
       "</style>\n",
       "<table border=\"1\" class=\"dataframe\">\n",
       "  <thead>\n",
       "    <tr style=\"text-align: right;\">\n",
       "      <th></th>\n",
       "      <th>Order ID</th>\n",
       "      <th>TPT</th>\n",
       "      <th>Ship ahead day count</th>\n",
       "      <th>Ship Late Day count</th>\n",
       "      <th>Product ID</th>\n",
       "      <th>Unit quantity</th>\n",
       "      <th>Weight</th>\n",
       "    </tr>\n",
       "  </thead>\n",
       "  <tbody>\n",
       "    <tr>\n",
       "      <th>count</th>\n",
       "      <td>9.215000e+03</td>\n",
       "      <td>9215.000000</td>\n",
       "      <td>9215.000000</td>\n",
       "      <td>9215.000000</td>\n",
       "      <td>9.215000e+03</td>\n",
       "      <td>9215.000000</td>\n",
       "      <td>9215.000000</td>\n",
       "    </tr>\n",
       "    <tr>\n",
       "      <th>mean</th>\n",
       "      <td>1.447274e+09</td>\n",
       "      <td>1.717743</td>\n",
       "      <td>1.852306</td>\n",
       "      <td>0.039935</td>\n",
       "      <td>1.680536e+06</td>\n",
       "      <td>3202.747151</td>\n",
       "      <td>19.871688</td>\n",
       "    </tr>\n",
       "    <tr>\n",
       "      <th>std</th>\n",
       "      <td>8.381629e+04</td>\n",
       "      <td>0.630500</td>\n",
       "      <td>1.922302</td>\n",
       "      <td>0.319625</td>\n",
       "      <td>1.526593e+04</td>\n",
       "      <td>15965.622260</td>\n",
       "      <td>66.569064</td>\n",
       "    </tr>\n",
       "    <tr>\n",
       "      <th>min</th>\n",
       "      <td>1.447126e+09</td>\n",
       "      <td>0.000000</td>\n",
       "      <td>0.000000</td>\n",
       "      <td>0.000000</td>\n",
       "      <td>1.613321e+06</td>\n",
       "      <td>235.000000</td>\n",
       "      <td>0.000000</td>\n",
       "    </tr>\n",
       "    <tr>\n",
       "      <th>25%</th>\n",
       "      <td>1.447197e+09</td>\n",
       "      <td>1.000000</td>\n",
       "      <td>0.000000</td>\n",
       "      <td>0.000000</td>\n",
       "      <td>1.669702e+06</td>\n",
       "      <td>330.000000</td>\n",
       "      <td>1.407430</td>\n",
       "    </tr>\n",
       "    <tr>\n",
       "      <th>50%</th>\n",
       "      <td>1.447276e+09</td>\n",
       "      <td>2.000000</td>\n",
       "      <td>3.000000</td>\n",
       "      <td>0.000000</td>\n",
       "      <td>1.683636e+06</td>\n",
       "      <td>477.000000</td>\n",
       "      <td>4.440000</td>\n",
       "    </tr>\n",
       "    <tr>\n",
       "      <th>75%</th>\n",
       "      <td>1.447346e+09</td>\n",
       "      <td>2.000000</td>\n",
       "      <td>3.000000</td>\n",
       "      <td>0.000000</td>\n",
       "      <td>1.689554e+06</td>\n",
       "      <td>1275.500000</td>\n",
       "      <td>13.325673</td>\n",
       "    </tr>\n",
       "    <tr>\n",
       "      <th>max</th>\n",
       "      <td>1.447425e+09</td>\n",
       "      <td>4.000000</td>\n",
       "      <td>6.000000</td>\n",
       "      <td>6.000000</td>\n",
       "      <td>1.702654e+06</td>\n",
       "      <td>561847.000000</td>\n",
       "      <td>2338.405126</td>\n",
       "    </tr>\n",
       "  </tbody>\n",
       "</table>\n",
       "</div>"
      ],
      "text/plain": [
       "           Order ID          TPT  Ship ahead day count  Ship Late Day count  \\\n",
       "count  9.215000e+03  9215.000000           9215.000000          9215.000000   \n",
       "mean   1.447274e+09     1.717743              1.852306             0.039935   \n",
       "std    8.381629e+04     0.630500              1.922302             0.319625   \n",
       "min    1.447126e+09     0.000000              0.000000             0.000000   \n",
       "25%    1.447197e+09     1.000000              0.000000             0.000000   \n",
       "50%    1.447276e+09     2.000000              3.000000             0.000000   \n",
       "75%    1.447346e+09     2.000000              3.000000             0.000000   \n",
       "max    1.447425e+09     4.000000              6.000000             6.000000   \n",
       "\n",
       "         Product ID  Unit quantity       Weight  \n",
       "count  9.215000e+03    9215.000000  9215.000000  \n",
       "mean   1.680536e+06    3202.747151    19.871688  \n",
       "std    1.526593e+04   15965.622260    66.569064  \n",
       "min    1.613321e+06     235.000000     0.000000  \n",
       "25%    1.669702e+06     330.000000     1.407430  \n",
       "50%    1.683636e+06     477.000000     4.440000  \n",
       "75%    1.689554e+06    1275.500000    13.325673  \n",
       "max    1.702654e+06  561847.000000  2338.405126  "
      ]
     },
     "execution_count": 76,
     "metadata": {},
     "output_type": "execute_result"
    }
   ],
   "source": [
    "df_OrderList.describe()"
   ]
  },
  {
   "cell_type": "code",
   "execution_count": 77,
   "id": "abeea52a-06d2-4c98-88fc-f1ab5ed534bb",
   "metadata": {},
   "outputs": [
    {
     "data": {
      "text/plain": [
       "Order ID                0\n",
       "Order Date              0\n",
       "Origin Port             0\n",
       "Carrier                 0\n",
       "TPT                     0\n",
       "Service Level           0\n",
       "Ship ahead day count    0\n",
       "Ship Late Day count     0\n",
       "Customer                0\n",
       "Product ID              0\n",
       "Plant Code              0\n",
       "Destination Port        0\n",
       "Unit quantity           0\n",
       "Weight                  0\n",
       "dtype: int64"
      ]
     },
     "execution_count": 77,
     "metadata": {},
     "output_type": "execute_result"
    }
   ],
   "source": [
    "df_OrderList.isnull().sum()"
   ]
  },
  {
   "cell_type": "code",
   "execution_count": 78,
   "id": "d158c286-0f8d-42f7-a1d0-f2225c0ffef1",
   "metadata": {},
   "outputs": [
    {
     "data": {
      "text/plain": [
       "Index(['Order ID', 'Order Date', 'Origin Port', 'Carrier', 'TPT',\n",
       "       'Service Level', 'Ship ahead day count', 'Ship Late Day count',\n",
       "       'Customer', 'Product ID', 'Plant Code', 'Destination Port',\n",
       "       'Unit quantity', 'Weight'],\n",
       "      dtype='object')"
      ]
     },
     "execution_count": 78,
     "metadata": {},
     "output_type": "execute_result"
    }
   ],
   "source": [
    "df_OrderList.columns"
   ]
  },
  {
   "cell_type": "code",
   "execution_count": 79,
   "id": "50c3f323-f05e-4911-b2f7-db9fbf804f5d",
   "metadata": {},
   "outputs": [
    {
     "data": {
      "text/plain": [
       "Order ID                  int64\n",
       "Order Date               object\n",
       "Origin Port              object\n",
       "Carrier                  object\n",
       "TPT                       int64\n",
       "Service Level            object\n",
       "Ship ahead day count      int64\n",
       "Ship Late Day count       int64\n",
       "Customer                 object\n",
       "Product ID                int64\n",
       "Plant Code               object\n",
       "Destination Port         object\n",
       "Unit quantity             int64\n",
       "Weight                  float64\n",
       "dtype: object"
      ]
     },
     "execution_count": 79,
     "metadata": {},
     "output_type": "execute_result"
    }
   ],
   "source": [
    "df_OrderList.dtypes"
   ]
  },
  {
   "cell_type": "markdown",
   "id": "06590068-4a96-4126-a48f-17fb47773df2",
   "metadata": {},
   "source": [
    "'Order date' should be converted to date time format\n",
    "\n",
    "\n"
   ]
  },
  {
   "cell_type": "code",
   "execution_count": 84,
   "id": "29786251-a5a6-4b00-8a7a-60743eb899a9",
   "metadata": {},
   "outputs": [],
   "source": [
    "df_OrderList['Order Date'] = pd.to_datetime(df_OrderList['Order Date'])\n",
    "df_OrderList['Plant Code'] = df_OrderList['Plant Code'].astype(str)\n",
    "df_OrderList['Product ID'] = df_OrderList['Product ID'].astype(str)"
   ]
  },
  {
   "cell_type": "code",
   "execution_count": 81,
   "id": "c8764e1e-9132-4e60-9ed5-5d9f1c822c13",
   "metadata": {},
   "outputs": [
    {
     "data": {
      "text/plain": [
       "Order ID                         int64\n",
       "Order Date              datetime64[ns]\n",
       "Origin Port                     object\n",
       "Carrier                         object\n",
       "TPT                              int64\n",
       "Service Level                   object\n",
       "Ship ahead day count             int64\n",
       "Ship Late Day count              int64\n",
       "Customer                        object\n",
       "Product ID                       int64\n",
       "Plant Code                      object\n",
       "Destination Port                object\n",
       "Unit quantity                    int64\n",
       "Weight                         float64\n",
       "dtype: object"
      ]
     },
     "execution_count": 81,
     "metadata": {},
     "output_type": "execute_result"
    }
   ],
   "source": [
    "df_OrderList.dtypes"
   ]
  },
  {
   "cell_type": "code",
   "execution_count": 82,
   "id": "6b74e88a-91fe-41d8-8645-3a405973da35",
   "metadata": {},
   "outputs": [
    {
     "name": "stdout",
     "output_type": "stream",
     "text": [
      "{'Origin Port': array(['PORT09', 'PORT04', 'PORT05'], dtype=object), 'Carrier': array(['V44_3', 'V444_0', 'V444_1'], dtype=object), 'Plant Code': array(['PLANT16', 'PLANT03', 'PLANT08', 'PLANT04', 'PLANT12', 'PLANT09',\n",
      "       'PLANT13'], dtype=object), 'Destination Port': array(['PORT09'], dtype=object)}\n"
     ]
    }
   ],
   "source": [
    "# Get unique values for each column in df_OrderList individually\n",
    "unique_values_df_OrderList = {col: df_OrderList[col].unique() for col in ['Origin Port', 'Carrier', 'Plant Code', 'Destination Port']}\n",
    "print(unique_values_df_OrderList)\n"
   ]
  },
  {
   "cell_type": "markdown",
   "id": "22418738-50e9-4248-9683-73ee7b45de57",
   "metadata": {},
   "source": [
    "OrderList Deatials are avaialble for Only 'PLANT16', 'PLANT03', 'PLANT08', 'PLANT04', 'PLANT12', 'PLANT09' and Carriers 'V44_3', 'V444_0', 'V444_1'"
   ]
  },
  {
   "cell_type": "markdown",
   "id": "efba4599-04bf-441a-9a82-bf741e9a1f78",
   "metadata": {},
   "source": [
    "# FreightRates\n",
    "Lists available couriers, their rates based on weight gaps for specific lanes, and estimated shipping times."
   ]
  },
  {
   "cell_type": "code",
   "execution_count": 108,
   "id": "0faddbdd-2227-441f-bb01-0055b1d6739f",
   "metadata": {},
   "outputs": [
    {
     "data": {
      "text/html": [
       "<div>\n",
       "<style scoped>\n",
       "    .dataframe tbody tr th:only-of-type {\n",
       "        vertical-align: middle;\n",
       "    }\n",
       "\n",
       "    .dataframe tbody tr th {\n",
       "        vertical-align: top;\n",
       "    }\n",
       "\n",
       "    .dataframe thead th {\n",
       "        text-align: right;\n",
       "    }\n",
       "</style>\n",
       "<table border=\"1\" class=\"dataframe\">\n",
       "  <thead>\n",
       "    <tr style=\"text-align: right;\">\n",
       "      <th></th>\n",
       "      <th>Carrier</th>\n",
       "      <th>orig_port_cd</th>\n",
       "      <th>dest_port_cd</th>\n",
       "      <th>minm_wgh_qty</th>\n",
       "      <th>max_wgh_qty</th>\n",
       "      <th>svc_cd</th>\n",
       "      <th>minimum cost</th>\n",
       "      <th>rate</th>\n",
       "      <th>mode_dsc</th>\n",
       "      <th>tpt_day_cnt</th>\n",
       "      <th>Carrier type</th>\n",
       "    </tr>\n",
       "  </thead>\n",
       "  <tbody>\n",
       "    <tr>\n",
       "      <th>0</th>\n",
       "      <td>V444_6</td>\n",
       "      <td>PORT08</td>\n",
       "      <td>PORT09</td>\n",
       "      <td>250.0</td>\n",
       "      <td>499.99</td>\n",
       "      <td>DTD</td>\n",
       "      <td>$ 43.23</td>\n",
       "      <td>$ 0.71</td>\n",
       "      <td>AIR</td>\n",
       "      <td>2</td>\n",
       "      <td>V88888888_0</td>\n",
       "    </tr>\n",
       "    <tr>\n",
       "      <th>1</th>\n",
       "      <td>V444_6</td>\n",
       "      <td>PORT08</td>\n",
       "      <td>PORT09</td>\n",
       "      <td>65.0</td>\n",
       "      <td>69.99</td>\n",
       "      <td>DTD</td>\n",
       "      <td>$ 43.23</td>\n",
       "      <td>$ 0.75</td>\n",
       "      <td>AIR</td>\n",
       "      <td>2</td>\n",
       "      <td>V88888888_0</td>\n",
       "    </tr>\n",
       "    <tr>\n",
       "      <th>2</th>\n",
       "      <td>V444_6</td>\n",
       "      <td>PORT08</td>\n",
       "      <td>PORT09</td>\n",
       "      <td>60.0</td>\n",
       "      <td>64.99</td>\n",
       "      <td>DTD</td>\n",
       "      <td>$ 43.23</td>\n",
       "      <td>$ 0.79</td>\n",
       "      <td>AIR</td>\n",
       "      <td>2</td>\n",
       "      <td>V88888888_0</td>\n",
       "    </tr>\n",
       "    <tr>\n",
       "      <th>3</th>\n",
       "      <td>V444_6</td>\n",
       "      <td>PORT08</td>\n",
       "      <td>PORT09</td>\n",
       "      <td>50.0</td>\n",
       "      <td>54.99</td>\n",
       "      <td>DTD</td>\n",
       "      <td>$ 43.23</td>\n",
       "      <td>$ 0.83</td>\n",
       "      <td>AIR</td>\n",
       "      <td>2</td>\n",
       "      <td>V88888888_0</td>\n",
       "    </tr>\n",
       "    <tr>\n",
       "      <th>4</th>\n",
       "      <td>V444_6</td>\n",
       "      <td>PORT08</td>\n",
       "      <td>PORT09</td>\n",
       "      <td>35.0</td>\n",
       "      <td>39.99</td>\n",
       "      <td>DTD</td>\n",
       "      <td>$ 43.23</td>\n",
       "      <td>$ 1.06</td>\n",
       "      <td>AIR</td>\n",
       "      <td>2</td>\n",
       "      <td>V88888888_0</td>\n",
       "    </tr>\n",
       "  </tbody>\n",
       "</table>\n",
       "</div>"
      ],
      "text/plain": [
       "  Carrier orig_port_cd dest_port_cd  minm_wgh_qty max_wgh_qty svc_cd  \\\n",
       "0  V444_6       PORT08       PORT09         250.0      499.99    DTD   \n",
       "1  V444_6       PORT08       PORT09          65.0       69.99    DTD   \n",
       "2  V444_6       PORT08       PORT09          60.0       64.99    DTD   \n",
       "3  V444_6       PORT08       PORT09          50.0       54.99    DTD   \n",
       "4  V444_6       PORT08       PORT09          35.0       39.99    DTD   \n",
       "\n",
       "  minimum cost      rate mode_dsc  tpt_day_cnt Carrier type  \n",
       "0     $ 43.23    $ 0.71    AIR               2  V88888888_0  \n",
       "1     $ 43.23    $ 0.75    AIR               2  V88888888_0  \n",
       "2     $ 43.23    $ 0.79    AIR               2  V88888888_0  \n",
       "3     $ 43.23    $ 0.83    AIR               2  V88888888_0  \n",
       "4     $ 43.23    $ 1.06    AIR               2  V88888888_0  "
      ]
     },
     "execution_count": 108,
     "metadata": {},
     "output_type": "execute_result"
    }
   ],
   "source": [
    "\n",
    "df_FreightRates= pd.read_csv(\"FreightRates.csv\")\n",
    "df_FreightRates.head()"
   ]
  },
  {
   "cell_type": "code",
   "execution_count": 12,
   "id": "33c3b05e-5f6e-4c7b-aa6f-42022350df65",
   "metadata": {},
   "outputs": [
    {
     "name": "stdout",
     "output_type": "stream",
     "text": [
      "<class 'pandas.core.frame.DataFrame'>\n",
      "RangeIndex: 1540 entries, 0 to 1539\n",
      "Data columns (total 11 columns):\n",
      " #   Column        Non-Null Count  Dtype  \n",
      "---  ------        --------------  -----  \n",
      " 0   Carrier       1540 non-null   object \n",
      " 1   orig_port_cd  1540 non-null   object \n",
      " 2   dest_port_cd  1540 non-null   object \n",
      " 3   minm_wgh_qty  1540 non-null   float64\n",
      " 4   max_wgh_qty   1540 non-null   object \n",
      " 5   svc_cd        1540 non-null   object \n",
      " 6   minimum cost  1540 non-null   object \n",
      " 7   rate          1540 non-null   object \n",
      " 8   mode_dsc      1540 non-null   object \n",
      " 9   tpt_day_cnt   1540 non-null   int64  \n",
      " 10  Carrier type  1540 non-null   object \n",
      "dtypes: float64(1), int64(1), object(9)\n",
      "memory usage: 132.5+ KB\n"
     ]
    }
   ],
   "source": [
    "df_FreightRates.info()"
   ]
  },
  {
   "cell_type": "code",
   "execution_count": 13,
   "id": "d9a82cfb-a48b-4589-b44c-3d969c944071",
   "metadata": {},
   "outputs": [
    {
     "data": {
      "text/html": [
       "<div>\n",
       "<style scoped>\n",
       "    .dataframe tbody tr th:only-of-type {\n",
       "        vertical-align: middle;\n",
       "    }\n",
       "\n",
       "    .dataframe tbody tr th {\n",
       "        vertical-align: top;\n",
       "    }\n",
       "\n",
       "    .dataframe thead th {\n",
       "        text-align: right;\n",
       "    }\n",
       "</style>\n",
       "<table border=\"1\" class=\"dataframe\">\n",
       "  <thead>\n",
       "    <tr style=\"text-align: right;\">\n",
       "      <th></th>\n",
       "      <th>minm_wgh_qty</th>\n",
       "      <th>tpt_day_cnt</th>\n",
       "    </tr>\n",
       "  </thead>\n",
       "  <tbody>\n",
       "    <tr>\n",
       "      <th>count</th>\n",
       "      <td>1540.000000</td>\n",
       "      <td>1540.000000</td>\n",
       "    </tr>\n",
       "    <tr>\n",
       "      <th>mean</th>\n",
       "      <td>155.886637</td>\n",
       "      <td>2.186364</td>\n",
       "    </tr>\n",
       "    <tr>\n",
       "      <th>std</th>\n",
       "      <td>475.952049</td>\n",
       "      <td>2.000895</td>\n",
       "    </tr>\n",
       "    <tr>\n",
       "      <th>min</th>\n",
       "      <td>0.000000</td>\n",
       "      <td>0.000000</td>\n",
       "    </tr>\n",
       "    <tr>\n",
       "      <th>25%</th>\n",
       "      <td>15.010000</td>\n",
       "      <td>1.000000</td>\n",
       "    </tr>\n",
       "    <tr>\n",
       "      <th>50%</th>\n",
       "      <td>41.010000</td>\n",
       "      <td>2.000000</td>\n",
       "    </tr>\n",
       "    <tr>\n",
       "      <th>75%</th>\n",
       "      <td>67.229614</td>\n",
       "      <td>2.000000</td>\n",
       "    </tr>\n",
       "    <tr>\n",
       "      <th>max</th>\n",
       "      <td>10000.000000</td>\n",
       "      <td>14.000000</td>\n",
       "    </tr>\n",
       "  </tbody>\n",
       "</table>\n",
       "</div>"
      ],
      "text/plain": [
       "       minm_wgh_qty  tpt_day_cnt\n",
       "count   1540.000000  1540.000000\n",
       "mean     155.886637     2.186364\n",
       "std      475.952049     2.000895\n",
       "min        0.000000     0.000000\n",
       "25%       15.010000     1.000000\n",
       "50%       41.010000     2.000000\n",
       "75%       67.229614     2.000000\n",
       "max    10000.000000    14.000000"
      ]
     },
     "execution_count": 13,
     "metadata": {},
     "output_type": "execute_result"
    }
   ],
   "source": [
    "df_FreightRates.describe()"
   ]
  },
  {
   "cell_type": "code",
   "execution_count": 14,
   "id": "5b065f93-dae5-4cae-8428-89ad076b63f2",
   "metadata": {},
   "outputs": [
    {
     "data": {
      "text/plain": [
       "Carrier         0\n",
       "orig_port_cd    0\n",
       "dest_port_cd    0\n",
       "minm_wgh_qty    0\n",
       "max_wgh_qty     0\n",
       "svc_cd          0\n",
       "minimum cost    0\n",
       "rate            0\n",
       "mode_dsc        0\n",
       "tpt_day_cnt     0\n",
       "Carrier type    0\n",
       "dtype: int64"
      ]
     },
     "execution_count": 14,
     "metadata": {},
     "output_type": "execute_result"
    }
   ],
   "source": [
    "df_FreightRates.isnull().sum()"
   ]
  },
  {
   "cell_type": "code",
   "execution_count": 15,
   "id": "f5d4bd2c-06e7-44de-998a-79e13741b908",
   "metadata": {},
   "outputs": [
    {
     "data": {
      "text/plain": [
       "Carrier          object\n",
       "orig_port_cd     object\n",
       "dest_port_cd     object\n",
       "minm_wgh_qty    float64\n",
       "max_wgh_qty      object\n",
       "svc_cd           object\n",
       "minimum cost     object\n",
       "rate             object\n",
       "mode_dsc         object\n",
       "tpt_day_cnt       int64\n",
       "Carrier type     object\n",
       "dtype: object"
      ]
     },
     "execution_count": 15,
     "metadata": {},
     "output_type": "execute_result"
    }
   ],
   "source": [
    "df_FreightRates.dtypes"
   ]
  },
  {
   "cell_type": "markdown",
   "id": "0a302bb3-2344-4308-af3d-c875e028dc3b",
   "metadata": {},
   "source": [
    "As we can see the \"minimum cost\" and \"\n",
    "rat\" are in object datatype and we will convert it to an integer         "
   ]
  },
  {
   "cell_type": "code",
   "execution_count": 109,
   "id": "8f763ece-78d8-4141-9ced-50948ee918c2",
   "metadata": {},
   "outputs": [],
   "source": [
    "\n",
    "df_FreightRates['minimum cost'] = df_FreightRates['minimum cost'].str.replace('$', '', regex=False).str.strip().astype(float)\n",
    "# Convert to int \n",
    "df_FreightRates['minimum cost'] = df_FreightRates['minimum cost'].astype(int)\n",
    "df_FreightRates['rate'] = df_FreightRates['rate'].str.replace('$', '', regex=False).str.strip().astype(float)\n",
    "df_FreightRates['minm_wgh_qty'] = pd.to_numeric(df_FreightRates['minm_wgh_qty'], errors='coerce')\n",
    "df_FreightRates['max_wgh_qty'] = pd.to_numeric(df_FreightRates['max_wgh_qty'], errors='coerce')\n"
   ]
  },
  {
   "cell_type": "code",
   "execution_count": 110,
   "id": "ca51f261-b88a-428b-8995-269e98ccd384",
   "metadata": {},
   "outputs": [
    {
     "data": {
      "text/html": [
       "<div>\n",
       "<style scoped>\n",
       "    .dataframe tbody tr th:only-of-type {\n",
       "        vertical-align: middle;\n",
       "    }\n",
       "\n",
       "    .dataframe tbody tr th {\n",
       "        vertical-align: top;\n",
       "    }\n",
       "\n",
       "    .dataframe thead th {\n",
       "        text-align: right;\n",
       "    }\n",
       "</style>\n",
       "<table border=\"1\" class=\"dataframe\">\n",
       "  <thead>\n",
       "    <tr style=\"text-align: right;\">\n",
       "      <th></th>\n",
       "      <th>Carrier</th>\n",
       "      <th>orig_port_cd</th>\n",
       "      <th>dest_port_cd</th>\n",
       "      <th>minm_wgh_qty</th>\n",
       "      <th>max_wgh_qty</th>\n",
       "      <th>svc_cd</th>\n",
       "      <th>minimum cost</th>\n",
       "      <th>rate</th>\n",
       "      <th>mode_dsc</th>\n",
       "      <th>tpt_day_cnt</th>\n",
       "      <th>Carrier type</th>\n",
       "    </tr>\n",
       "  </thead>\n",
       "  <tbody>\n",
       "    <tr>\n",
       "      <th>0</th>\n",
       "      <td>V444_6</td>\n",
       "      <td>PORT08</td>\n",
       "      <td>PORT09</td>\n",
       "      <td>250.0</td>\n",
       "      <td>499.99</td>\n",
       "      <td>DTD</td>\n",
       "      <td>43</td>\n",
       "      <td>0.71</td>\n",
       "      <td>AIR</td>\n",
       "      <td>2</td>\n",
       "      <td>V88888888_0</td>\n",
       "    </tr>\n",
       "    <tr>\n",
       "      <th>1</th>\n",
       "      <td>V444_6</td>\n",
       "      <td>PORT08</td>\n",
       "      <td>PORT09</td>\n",
       "      <td>65.0</td>\n",
       "      <td>69.99</td>\n",
       "      <td>DTD</td>\n",
       "      <td>43</td>\n",
       "      <td>0.75</td>\n",
       "      <td>AIR</td>\n",
       "      <td>2</td>\n",
       "      <td>V88888888_0</td>\n",
       "    </tr>\n",
       "  </tbody>\n",
       "</table>\n",
       "</div>"
      ],
      "text/plain": [
       "  Carrier orig_port_cd dest_port_cd  minm_wgh_qty  max_wgh_qty svc_cd  \\\n",
       "0  V444_6       PORT08       PORT09         250.0       499.99    DTD   \n",
       "1  V444_6       PORT08       PORT09          65.0        69.99    DTD   \n",
       "\n",
       "   minimum cost  rate mode_dsc  tpt_day_cnt Carrier type  \n",
       "0            43  0.71   AIR               2  V88888888_0  \n",
       "1            43  0.75   AIR               2  V88888888_0  "
      ]
     },
     "execution_count": 110,
     "metadata": {},
     "output_type": "execute_result"
    }
   ],
   "source": [
    "df_FreightRates.head(2)"
   ]
  },
  {
   "cell_type": "code",
   "execution_count": 19,
   "id": "03656e6a-fe1d-4d32-bd7d-9a6c47c31e11",
   "metadata": {},
   "outputs": [
    {
     "name": "stdout",
     "output_type": "stream",
     "text": [
      "{'Carrier': array(['V444_6', 'V444_8', 'V444_9', 'V444_2', 'V444_1', 'V444_0',\n",
      "       'V444_5', 'V444_4', 'V444_7'], dtype=object), 'orig_port_cd': array(['PORT08', 'PORT10', 'PORT09', 'PORT11', 'PORT04', 'PORT02',\n",
      "       'PORT03', 'PORT07', 'PORT05', 'PORT06'], dtype=object), 'dest_port_cd': array(['PORT09'], dtype=object), 'svc_cd': array(['DTD', 'DTP'], dtype=object), 'mode_dsc': array(['AIR   ', 'GROUND'], dtype=object), 'Carrier type': array(['V88888888_0', 'V888888883_1'], dtype=object)}\n"
     ]
    }
   ],
   "source": [
    "# Get unique values for each column individually\n",
    "unique_values = {col: df_FreightRates[col].unique() for col in ['Carrier', 'orig_port_cd', 'dest_port_cd', 'svc_cd', 'mode_dsc', 'Carrier type']}\n",
    "print(unique_values)\n"
   ]
  },
  {
   "cell_type": "markdown",
   "id": "953c1305-b47e-4e69-a120-6f2a0438ed8d",
   "metadata": {},
   "source": [
    "# PlantPorts\n",
    "Specifies allowed links between warehouses and shipping ports.\n"
   ]
  },
  {
   "cell_type": "code",
   "execution_count": 20,
   "id": "f6a45a5e-982d-4343-b795-5fd7f339db97",
   "metadata": {},
   "outputs": [
    {
     "data": {
      "text/html": [
       "<div>\n",
       "<style scoped>\n",
       "    .dataframe tbody tr th:only-of-type {\n",
       "        vertical-align: middle;\n",
       "    }\n",
       "\n",
       "    .dataframe tbody tr th {\n",
       "        vertical-align: top;\n",
       "    }\n",
       "\n",
       "    .dataframe thead th {\n",
       "        text-align: right;\n",
       "    }\n",
       "</style>\n",
       "<table border=\"1\" class=\"dataframe\">\n",
       "  <thead>\n",
       "    <tr style=\"text-align: right;\">\n",
       "      <th></th>\n",
       "      <th>Plant Code</th>\n",
       "      <th>Port</th>\n",
       "    </tr>\n",
       "  </thead>\n",
       "  <tbody>\n",
       "    <tr>\n",
       "      <th>0</th>\n",
       "      <td>PLANT01</td>\n",
       "      <td>PORT01</td>\n",
       "    </tr>\n",
       "    <tr>\n",
       "      <th>1</th>\n",
       "      <td>PLANT01</td>\n",
       "      <td>PORT02</td>\n",
       "    </tr>\n",
       "    <tr>\n",
       "      <th>2</th>\n",
       "      <td>PLANT02</td>\n",
       "      <td>PORT03</td>\n",
       "    </tr>\n",
       "    <tr>\n",
       "      <th>3</th>\n",
       "      <td>PLANT03</td>\n",
       "      <td>PORT04</td>\n",
       "    </tr>\n",
       "    <tr>\n",
       "      <th>4</th>\n",
       "      <td>PLANT04</td>\n",
       "      <td>PORT05</td>\n",
       "    </tr>\n",
       "  </tbody>\n",
       "</table>\n",
       "</div>"
      ],
      "text/plain": [
       "  Plant Code    Port\n",
       "0    PLANT01  PORT01\n",
       "1    PLANT01  PORT02\n",
       "2    PLANT02  PORT03\n",
       "3    PLANT03  PORT04\n",
       "4    PLANT04  PORT05"
      ]
     },
     "execution_count": 20,
     "metadata": {},
     "output_type": "execute_result"
    }
   ],
   "source": [
    "\n",
    "df_PlantPorts= pd.read_csv(\"PlantPorts.csv\")\n",
    "df_PlantPorts.head()"
   ]
  },
  {
   "cell_type": "code",
   "execution_count": 21,
   "id": "dcab2650-2c6f-4897-bccd-45eab56e9898",
   "metadata": {},
   "outputs": [
    {
     "name": "stdout",
     "output_type": "stream",
     "text": [
      "<class 'pandas.core.frame.DataFrame'>\n",
      "RangeIndex: 22 entries, 0 to 21\n",
      "Data columns (total 2 columns):\n",
      " #   Column      Non-Null Count  Dtype \n",
      "---  ------      --------------  ----- \n",
      " 0   Plant Code  22 non-null     object\n",
      " 1   Port        22 non-null     object\n",
      "dtypes: object(2)\n",
      "memory usage: 484.0+ bytes\n"
     ]
    }
   ],
   "source": [
    "df_PlantPorts.info()"
   ]
  },
  {
   "cell_type": "code",
   "execution_count": 22,
   "id": "359c2975-b0e4-4aea-aa7e-a8f7abdaa515",
   "metadata": {},
   "outputs": [
    {
     "data": {
      "text/html": [
       "<div>\n",
       "<style scoped>\n",
       "    .dataframe tbody tr th:only-of-type {\n",
       "        vertical-align: middle;\n",
       "    }\n",
       "\n",
       "    .dataframe tbody tr th {\n",
       "        vertical-align: top;\n",
       "    }\n",
       "\n",
       "    .dataframe thead th {\n",
       "        text-align: right;\n",
       "    }\n",
       "</style>\n",
       "<table border=\"1\" class=\"dataframe\">\n",
       "  <thead>\n",
       "    <tr style=\"text-align: right;\">\n",
       "      <th></th>\n",
       "      <th>Plant Code</th>\n",
       "      <th>Port</th>\n",
       "    </tr>\n",
       "  </thead>\n",
       "  <tbody>\n",
       "    <tr>\n",
       "      <th>count</th>\n",
       "      <td>22</td>\n",
       "      <td>22</td>\n",
       "    </tr>\n",
       "    <tr>\n",
       "      <th>unique</th>\n",
       "      <td>19</td>\n",
       "      <td>11</td>\n",
       "    </tr>\n",
       "    <tr>\n",
       "      <th>top</th>\n",
       "      <td>PLANT01</td>\n",
       "      <td>PORT04</td>\n",
       "    </tr>\n",
       "    <tr>\n",
       "      <th>freq</th>\n",
       "      <td>2</td>\n",
       "      <td>7</td>\n",
       "    </tr>\n",
       "  </tbody>\n",
       "</table>\n",
       "</div>"
      ],
      "text/plain": [
       "       Plant Code    Port\n",
       "count          22      22\n",
       "unique         19      11\n",
       "top       PLANT01  PORT04\n",
       "freq            2       7"
      ]
     },
     "execution_count": 22,
     "metadata": {},
     "output_type": "execute_result"
    }
   ],
   "source": [
    "df_PlantPorts.describe()"
   ]
  },
  {
   "cell_type": "code",
   "execution_count": 23,
   "id": "88c1ea71-46ff-46e0-8893-b93a60dff33f",
   "metadata": {},
   "outputs": [
    {
     "data": {
      "text/plain": [
       "Plant Code    0\n",
       "Port          0\n",
       "dtype: int64"
      ]
     },
     "execution_count": 23,
     "metadata": {},
     "output_type": "execute_result"
    }
   ],
   "source": [
    "df_PlantPorts.isnull().sum()"
   ]
  },
  {
   "cell_type": "code",
   "execution_count": 24,
   "id": "b797f2ac-42d6-438d-8f7f-e516b178a7c9",
   "metadata": {},
   "outputs": [
    {
     "data": {
      "text/plain": [
       "Plant Code    object\n",
       "Port          object\n",
       "dtype: object"
      ]
     },
     "execution_count": 24,
     "metadata": {},
     "output_type": "execute_result"
    }
   ],
   "source": [
    "df_PlantPorts.dtypes"
   ]
  },
  {
   "cell_type": "markdown",
   "id": "78c6734a-3f84-42d4-aaf0-3036f15c4def",
   "metadata": {},
   "source": [
    "# ProductsPerPlant\n",
    "Lists supported warehouse-product combinations.\n"
   ]
  },
  {
   "cell_type": "code",
   "execution_count": 25,
   "id": "002211e4-2f8f-4048-9976-40a310a17a27",
   "metadata": {},
   "outputs": [
    {
     "data": {
      "text/html": [
       "<div>\n",
       "<style scoped>\n",
       "    .dataframe tbody tr th:only-of-type {\n",
       "        vertical-align: middle;\n",
       "    }\n",
       "\n",
       "    .dataframe tbody tr th {\n",
       "        vertical-align: top;\n",
       "    }\n",
       "\n",
       "    .dataframe thead th {\n",
       "        text-align: right;\n",
       "    }\n",
       "</style>\n",
       "<table border=\"1\" class=\"dataframe\">\n",
       "  <thead>\n",
       "    <tr style=\"text-align: right;\">\n",
       "      <th></th>\n",
       "      <th>Plant Code</th>\n",
       "      <th>Product ID</th>\n",
       "    </tr>\n",
       "  </thead>\n",
       "  <tbody>\n",
       "    <tr>\n",
       "      <th>0</th>\n",
       "      <td>PLANT15</td>\n",
       "      <td>1698815</td>\n",
       "    </tr>\n",
       "    <tr>\n",
       "      <th>1</th>\n",
       "      <td>PLANT17</td>\n",
       "      <td>1664419</td>\n",
       "    </tr>\n",
       "    <tr>\n",
       "      <th>2</th>\n",
       "      <td>PLANT17</td>\n",
       "      <td>1664426</td>\n",
       "    </tr>\n",
       "    <tr>\n",
       "      <th>3</th>\n",
       "      <td>PLANT17</td>\n",
       "      <td>1672826</td>\n",
       "    </tr>\n",
       "    <tr>\n",
       "      <th>4</th>\n",
       "      <td>PLANT17</td>\n",
       "      <td>1674916</td>\n",
       "    </tr>\n",
       "  </tbody>\n",
       "</table>\n",
       "</div>"
      ],
      "text/plain": [
       "  Plant Code  Product ID\n",
       "0    PLANT15     1698815\n",
       "1    PLANT17     1664419\n",
       "2    PLANT17     1664426\n",
       "3    PLANT17     1672826\n",
       "4    PLANT17     1674916"
      ]
     },
     "execution_count": 25,
     "metadata": {},
     "output_type": "execute_result"
    }
   ],
   "source": [
    "df_ProductsPerPlant= pd.read_csv(\"ProductsPerPlant.csv\")\n",
    "df_ProductsPerPlant.head()"
   ]
  },
  {
   "cell_type": "code",
   "execution_count": 26,
   "id": "12be2b80-574d-429e-816d-474c0b23cf25",
   "metadata": {},
   "outputs": [
    {
     "name": "stdout",
     "output_type": "stream",
     "text": [
      "<class 'pandas.core.frame.DataFrame'>\n",
      "RangeIndex: 2036 entries, 0 to 2035\n",
      "Data columns (total 2 columns):\n",
      " #   Column      Non-Null Count  Dtype \n",
      "---  ------      --------------  ----- \n",
      " 0   Plant Code  2036 non-null   object\n",
      " 1   Product ID  2036 non-null   int64 \n",
      "dtypes: int64(1), object(1)\n",
      "memory usage: 31.9+ KB\n"
     ]
    }
   ],
   "source": [
    "df_ProductsPerPlant.info()"
   ]
  },
  {
   "cell_type": "code",
   "execution_count": 27,
   "id": "dfb59a46-a206-4b83-8d10-ba43dc21c183",
   "metadata": {},
   "outputs": [
    {
     "data": {
      "text/plain": [
       "Plant Code    0\n",
       "Product ID    0\n",
       "dtype: int64"
      ]
     },
     "execution_count": 27,
     "metadata": {},
     "output_type": "execute_result"
    }
   ],
   "source": [
    "df_ProductsPerPlant.isnull().sum()"
   ]
  },
  {
   "cell_type": "code",
   "execution_count": 28,
   "id": "35d26e9e-33a5-41e6-9389-28a33bd6516f",
   "metadata": {},
   "outputs": [
    {
     "name": "stdout",
     "output_type": "stream",
     "text": [
      "19\n",
      "['PLANT15' 'PLANT17' 'PLANT18' 'PLANT05' 'PLANT02' 'PLANT01' 'PLANT06'\n",
      " 'PLANT10' 'PLANT07' 'CND9' 'PLANT14' 'PLANT16' 'PLANT12' 'PLANT11'\n",
      " 'PLANT09' 'PLANT03' 'PLANT13' 'PLANT08' 'PLANT04']\n"
     ]
    }
   ],
   "source": [
    "print(df_ProductsPerPlant['Plant Code'].nunique())\n",
    "print(df_ProductsPerPlant['Plant Code'].unique())"
   ]
  },
  {
   "cell_type": "code",
   "execution_count": 29,
   "id": "1f6a3979-818d-4d92-88ae-986c336d9fb6",
   "metadata": {},
   "outputs": [
    {
     "data": {
      "text/plain": [
       "1540"
      ]
     },
     "execution_count": 29,
     "metadata": {},
     "output_type": "execute_result"
    }
   ],
   "source": [
    "df_ProductsPerPlant['Product ID'].nunique()"
   ]
  },
  {
   "cell_type": "markdown",
   "id": "db1396af-6f9c-4f98-b673-8b93c0440264",
   "metadata": {},
   "source": [
    "# VmiCustomers\n",
    "Lists special cases where a warehouse is only allowed to support specific customers."
   ]
  },
  {
   "cell_type": "code",
   "execution_count": 30,
   "id": "37e97ff1-cd61-4e6c-b70f-3014393425ee",
   "metadata": {},
   "outputs": [
    {
     "data": {
      "text/html": [
       "<div>\n",
       "<style scoped>\n",
       "    .dataframe tbody tr th:only-of-type {\n",
       "        vertical-align: middle;\n",
       "    }\n",
       "\n",
       "    .dataframe tbody tr th {\n",
       "        vertical-align: top;\n",
       "    }\n",
       "\n",
       "    .dataframe thead th {\n",
       "        text-align: right;\n",
       "    }\n",
       "</style>\n",
       "<table border=\"1\" class=\"dataframe\">\n",
       "  <thead>\n",
       "    <tr style=\"text-align: right;\">\n",
       "      <th></th>\n",
       "      <th>Plant Code</th>\n",
       "      <th>Customers</th>\n",
       "    </tr>\n",
       "  </thead>\n",
       "  <tbody>\n",
       "    <tr>\n",
       "      <th>0</th>\n",
       "      <td>PLANT02</td>\n",
       "      <td>V5555555555555_16</td>\n",
       "    </tr>\n",
       "    <tr>\n",
       "      <th>1</th>\n",
       "      <td>PLANT02</td>\n",
       "      <td>V555555555555555_29</td>\n",
       "    </tr>\n",
       "    <tr>\n",
       "      <th>2</th>\n",
       "      <td>PLANT02</td>\n",
       "      <td>V555555555_3</td>\n",
       "    </tr>\n",
       "    <tr>\n",
       "      <th>3</th>\n",
       "      <td>PLANT02</td>\n",
       "      <td>V55555555555555_8</td>\n",
       "    </tr>\n",
       "    <tr>\n",
       "      <th>4</th>\n",
       "      <td>PLANT02</td>\n",
       "      <td>V55555555_9</td>\n",
       "    </tr>\n",
       "  </tbody>\n",
       "</table>\n",
       "</div>"
      ],
      "text/plain": [
       "  Plant Code            Customers\n",
       "0    PLANT02    V5555555555555_16\n",
       "1    PLANT02  V555555555555555_29\n",
       "2    PLANT02         V555555555_3\n",
       "3    PLANT02    V55555555555555_8\n",
       "4    PLANT02          V55555555_9"
      ]
     },
     "execution_count": 30,
     "metadata": {},
     "output_type": "execute_result"
    }
   ],
   "source": [
    "\n",
    "df_VmiCustomers= pd.read_csv(\"VmiCustomers.csv\")\n",
    "df_VmiCustomers.head()"
   ]
  },
  {
   "cell_type": "code",
   "execution_count": 123,
   "id": "061524cc-a812-4fb7-9ca8-651e1b02a181",
   "metadata": {},
   "outputs": [
    {
     "name": "stdout",
     "output_type": "stream",
     "text": [
      "<class 'pandas.core.frame.DataFrame'>\n",
      "RangeIndex: 14 entries, 0 to 13\n",
      "Data columns (total 2 columns):\n",
      " #   Column      Non-Null Count  Dtype \n",
      "---  ------      --------------  ----- \n",
      " 0   Plant Code  14 non-null     object\n",
      " 1   Customers   14 non-null     object\n",
      "dtypes: object(2)\n",
      "memory usage: 356.0+ bytes\n"
     ]
    }
   ],
   "source": [
    "df_VmiCustomers.info()"
   ]
  },
  {
   "cell_type": "code",
   "execution_count": 32,
   "id": "46d2776b-8328-441a-9f5b-0cc1f8a67676",
   "metadata": {},
   "outputs": [
    {
     "data": {
      "text/html": [
       "<div>\n",
       "<style scoped>\n",
       "    .dataframe tbody tr th:only-of-type {\n",
       "        vertical-align: middle;\n",
       "    }\n",
       "\n",
       "    .dataframe tbody tr th {\n",
       "        vertical-align: top;\n",
       "    }\n",
       "\n",
       "    .dataframe thead th {\n",
       "        text-align: right;\n",
       "    }\n",
       "</style>\n",
       "<table border=\"1\" class=\"dataframe\">\n",
       "  <thead>\n",
       "    <tr style=\"text-align: right;\">\n",
       "      <th></th>\n",
       "      <th>Plant Code</th>\n",
       "      <th>Customers</th>\n",
       "    </tr>\n",
       "  </thead>\n",
       "  <tbody>\n",
       "    <tr>\n",
       "      <th>count</th>\n",
       "      <td>14</td>\n",
       "      <td>14</td>\n",
       "    </tr>\n",
       "    <tr>\n",
       "      <th>unique</th>\n",
       "      <td>4</td>\n",
       "      <td>10</td>\n",
       "    </tr>\n",
       "    <tr>\n",
       "      <th>top</th>\n",
       "      <td>PLANT02</td>\n",
       "      <td>V55555_10</td>\n",
       "    </tr>\n",
       "    <tr>\n",
       "      <th>freq</th>\n",
       "      <td>7</td>\n",
       "      <td>3</td>\n",
       "    </tr>\n",
       "  </tbody>\n",
       "</table>\n",
       "</div>"
      ],
      "text/plain": [
       "       Plant Code  Customers\n",
       "count          14         14\n",
       "unique          4         10\n",
       "top       PLANT02  V55555_10\n",
       "freq            7          3"
      ]
     },
     "execution_count": 32,
     "metadata": {},
     "output_type": "execute_result"
    }
   ],
   "source": [
    "df_VmiCustomers.describe()"
   ]
  },
  {
   "cell_type": "markdown",
   "id": "a277e2b7-85aa-4844-8dce-fd37ae7b9afc",
   "metadata": {},
   "source": [
    "# WhCapacities\n",
    "Specifies the maximum number of orders that can be processed by each warehouse per day."
   ]
  },
  {
   "cell_type": "code",
   "execution_count": 125,
   "id": "73c544c3-8074-4361-b963-e16d60b32169",
   "metadata": {},
   "outputs": [
    {
     "data": {
      "text/html": [
       "<div>\n",
       "<style scoped>\n",
       "    .dataframe tbody tr th:only-of-type {\n",
       "        vertical-align: middle;\n",
       "    }\n",
       "\n",
       "    .dataframe tbody tr th {\n",
       "        vertical-align: top;\n",
       "    }\n",
       "\n",
       "    .dataframe thead th {\n",
       "        text-align: right;\n",
       "    }\n",
       "</style>\n",
       "<table border=\"1\" class=\"dataframe\">\n",
       "  <thead>\n",
       "    <tr style=\"text-align: right;\">\n",
       "      <th></th>\n",
       "      <th>Plant ID</th>\n",
       "      <th>Daily Capacity</th>\n",
       "    </tr>\n",
       "  </thead>\n",
       "  <tbody>\n",
       "    <tr>\n",
       "      <th>0</th>\n",
       "      <td>PLANT15</td>\n",
       "      <td>11</td>\n",
       "    </tr>\n",
       "    <tr>\n",
       "      <th>1</th>\n",
       "      <td>PLANT17</td>\n",
       "      <td>8</td>\n",
       "    </tr>\n",
       "    <tr>\n",
       "      <th>2</th>\n",
       "      <td>PLANT18</td>\n",
       "      <td>111</td>\n",
       "    </tr>\n",
       "    <tr>\n",
       "      <th>3</th>\n",
       "      <td>PLANT05</td>\n",
       "      <td>385</td>\n",
       "    </tr>\n",
       "    <tr>\n",
       "      <th>4</th>\n",
       "      <td>PLANT02</td>\n",
       "      <td>138</td>\n",
       "    </tr>\n",
       "  </tbody>\n",
       "</table>\n",
       "</div>"
      ],
      "text/plain": [
       "  Plant ID  Daily Capacity \n",
       "0  PLANT15               11\n",
       "1  PLANT17                8\n",
       "2  PLANT18              111\n",
       "3  PLANT05              385\n",
       "4  PLANT02              138"
      ]
     },
     "execution_count": 125,
     "metadata": {},
     "output_type": "execute_result"
    }
   ],
   "source": [
    "df_WhCapacities= pd.read_csv(\"WhCapacities.csv\")\n",
    "df_WhCapacities.head()"
   ]
  },
  {
   "cell_type": "code",
   "execution_count": 37,
   "id": "be0876b7-d740-4040-9968-e6614dda451c",
   "metadata": {},
   "outputs": [],
   "source": [
    "# Strip trailing spaces from column names\n",
    "df_WhCapacities.columns = df_WhCapacities.columns.str.strip()\n"
   ]
  },
  {
   "cell_type": "code",
   "execution_count": 38,
   "id": "c7ba0c22-1a7e-4e93-aece-1866cd45060c",
   "metadata": {},
   "outputs": [
    {
     "name": "stdout",
     "output_type": "stream",
     "text": [
      "<class 'pandas.core.frame.DataFrame'>\n",
      "RangeIndex: 19 entries, 0 to 18\n",
      "Data columns (total 2 columns):\n",
      " #   Column          Non-Null Count  Dtype \n",
      "---  ------          --------------  ----- \n",
      " 0   Plant ID        19 non-null     object\n",
      " 1   Daily Capacity  19 non-null     int64 \n",
      "dtypes: int64(1), object(1)\n",
      "memory usage: 436.0+ bytes\n"
     ]
    }
   ],
   "source": [
    "df_WhCapacities.info()"
   ]
  },
  {
   "cell_type": "code",
   "execution_count": 39,
   "id": "5b61b677-9aa7-436a-9125-ba9f6930128a",
   "metadata": {},
   "outputs": [
    {
     "data": {
      "text/html": [
       "<div>\n",
       "<style scoped>\n",
       "    .dataframe tbody tr th:only-of-type {\n",
       "        vertical-align: middle;\n",
       "    }\n",
       "\n",
       "    .dataframe tbody tr th {\n",
       "        vertical-align: top;\n",
       "    }\n",
       "\n",
       "    .dataframe thead th {\n",
       "        text-align: right;\n",
       "    }\n",
       "</style>\n",
       "<table border=\"1\" class=\"dataframe\">\n",
       "  <thead>\n",
       "    <tr style=\"text-align: right;\">\n",
       "      <th></th>\n",
       "      <th>Daily Capacity</th>\n",
       "    </tr>\n",
       "  </thead>\n",
       "  <tbody>\n",
       "    <tr>\n",
       "      <th>count</th>\n",
       "      <td>19.000000</td>\n",
       "    </tr>\n",
       "    <tr>\n",
       "      <th>mean</th>\n",
       "      <td>304.789474</td>\n",
       "    </tr>\n",
       "    <tr>\n",
       "      <th>std</th>\n",
       "      <td>323.513280</td>\n",
       "    </tr>\n",
       "    <tr>\n",
       "      <th>min</th>\n",
       "      <td>7.000000</td>\n",
       "    </tr>\n",
       "    <tr>\n",
       "      <th>25%</th>\n",
       "      <td>31.500000</td>\n",
       "    </tr>\n",
       "    <tr>\n",
       "      <th>50%</th>\n",
       "      <td>209.000000</td>\n",
       "    </tr>\n",
       "    <tr>\n",
       "      <th>75%</th>\n",
       "      <td>473.500000</td>\n",
       "    </tr>\n",
       "    <tr>\n",
       "      <th>max</th>\n",
       "      <td>1070.000000</td>\n",
       "    </tr>\n",
       "  </tbody>\n",
       "</table>\n",
       "</div>"
      ],
      "text/plain": [
       "       Daily Capacity\n",
       "count       19.000000\n",
       "mean       304.789474\n",
       "std        323.513280\n",
       "min          7.000000\n",
       "25%         31.500000\n",
       "50%        209.000000\n",
       "75%        473.500000\n",
       "max       1070.000000"
      ]
     },
     "execution_count": 39,
     "metadata": {},
     "output_type": "execute_result"
    }
   ],
   "source": [
    "df_WhCapacities.describe()"
   ]
  },
  {
   "cell_type": "markdown",
   "id": "b827d9ee-7999-441d-81bd-1528db5fd403",
   "metadata": {},
   "source": [
    "# WhCosts\n",
    "Lists the cost associated with storing products in each warehouse.\n"
   ]
  },
  {
   "cell_type": "code",
   "execution_count": 131,
   "id": "069e2855-03f2-4219-bc23-b25f0488e136",
   "metadata": {},
   "outputs": [
    {
     "data": {
      "text/html": [
       "<div>\n",
       "<style scoped>\n",
       "    .dataframe tbody tr th:only-of-type {\n",
       "        vertical-align: middle;\n",
       "    }\n",
       "\n",
       "    .dataframe tbody tr th {\n",
       "        vertical-align: top;\n",
       "    }\n",
       "\n",
       "    .dataframe thead th {\n",
       "        text-align: right;\n",
       "    }\n",
       "</style>\n",
       "<table border=\"1\" class=\"dataframe\">\n",
       "  <thead>\n",
       "    <tr style=\"text-align: right;\">\n",
       "      <th></th>\n",
       "      <th>WH</th>\n",
       "      <th>Cost/unit</th>\n",
       "    </tr>\n",
       "  </thead>\n",
       "  <tbody>\n",
       "    <tr>\n",
       "      <th>0</th>\n",
       "      <td>PLANT15</td>\n",
       "      <td>1.42</td>\n",
       "    </tr>\n",
       "    <tr>\n",
       "      <th>1</th>\n",
       "      <td>PLANT17</td>\n",
       "      <td>0.43</td>\n",
       "    </tr>\n",
       "    <tr>\n",
       "      <th>2</th>\n",
       "      <td>PLANT18</td>\n",
       "      <td>2.04</td>\n",
       "    </tr>\n",
       "    <tr>\n",
       "      <th>3</th>\n",
       "      <td>PLANT05</td>\n",
       "      <td>0.49</td>\n",
       "    </tr>\n",
       "    <tr>\n",
       "      <th>4</th>\n",
       "      <td>PLANT02</td>\n",
       "      <td>0.48</td>\n",
       "    </tr>\n",
       "  </tbody>\n",
       "</table>\n",
       "</div>"
      ],
      "text/plain": [
       "        WH  Cost/unit\n",
       "0  PLANT15       1.42\n",
       "1  PLANT17       0.43\n",
       "2  PLANT18       2.04\n",
       "3  PLANT05       0.49\n",
       "4  PLANT02       0.48"
      ]
     },
     "execution_count": 131,
     "metadata": {},
     "output_type": "execute_result"
    }
   ],
   "source": [
    "df_WhCosts= pd.read_csv(\"WhCosts.csv\")\n",
    "df_WhCosts.head()"
   ]
  },
  {
   "cell_type": "code",
   "execution_count": 44,
   "id": "77e1d8e6-6800-4d89-9af7-365c97c7eed0",
   "metadata": {},
   "outputs": [
    {
     "name": "stdout",
     "output_type": "stream",
     "text": [
      "<class 'pandas.core.frame.DataFrame'>\n",
      "RangeIndex: 19 entries, 0 to 18\n",
      "Data columns (total 2 columns):\n",
      " #   Column     Non-Null Count  Dtype  \n",
      "---  ------     --------------  -----  \n",
      " 0   WH         19 non-null     object \n",
      " 1   Cost/unit  19 non-null     float64\n",
      "dtypes: float64(1), object(1)\n",
      "memory usage: 436.0+ bytes\n"
     ]
    }
   ],
   "source": [
    "df_WhCosts.info()"
   ]
  },
  {
   "cell_type": "code",
   "execution_count": 45,
   "id": "e01a6969-0801-4554-83db-11a4395101bd",
   "metadata": {},
   "outputs": [
    {
     "data": {
      "text/html": [
       "<div>\n",
       "<style scoped>\n",
       "    .dataframe tbody tr th:only-of-type {\n",
       "        vertical-align: middle;\n",
       "    }\n",
       "\n",
       "    .dataframe tbody tr th {\n",
       "        vertical-align: top;\n",
       "    }\n",
       "\n",
       "    .dataframe thead th {\n",
       "        text-align: right;\n",
       "    }\n",
       "</style>\n",
       "<table border=\"1\" class=\"dataframe\">\n",
       "  <thead>\n",
       "    <tr style=\"text-align: right;\">\n",
       "      <th></th>\n",
       "      <th>Cost/unit</th>\n",
       "    </tr>\n",
       "  </thead>\n",
       "  <tbody>\n",
       "    <tr>\n",
       "      <th>count</th>\n",
       "      <td>19.000000</td>\n",
       "    </tr>\n",
       "    <tr>\n",
       "      <th>mean</th>\n",
       "      <td>0.724737</td>\n",
       "    </tr>\n",
       "    <tr>\n",
       "      <th>std</th>\n",
       "      <td>0.495820</td>\n",
       "    </tr>\n",
       "    <tr>\n",
       "      <th>min</th>\n",
       "      <td>0.370000</td>\n",
       "    </tr>\n",
       "    <tr>\n",
       "      <th>25%</th>\n",
       "      <td>0.475000</td>\n",
       "    </tr>\n",
       "    <tr>\n",
       "      <th>50%</th>\n",
       "      <td>0.520000</td>\n",
       "    </tr>\n",
       "    <tr>\n",
       "      <th>75%</th>\n",
       "      <td>0.635000</td>\n",
       "    </tr>\n",
       "    <tr>\n",
       "      <th>max</th>\n",
       "      <td>2.040000</td>\n",
       "    </tr>\n",
       "  </tbody>\n",
       "</table>\n",
       "</div>"
      ],
      "text/plain": [
       "       Cost/unit\n",
       "count  19.000000\n",
       "mean    0.724737\n",
       "std     0.495820\n",
       "min     0.370000\n",
       "25%     0.475000\n",
       "50%     0.520000\n",
       "75%     0.635000\n",
       "max     2.040000"
      ]
     },
     "execution_count": 45,
     "metadata": {},
     "output_type": "execute_result"
    }
   ],
   "source": [
    "df_WhCosts.describe()"
   ]
  },
  {
   "cell_type": "markdown",
   "id": "40fe4568-0bb6-4990-b1de-908d8a228909",
   "metadata": {},
   "source": [
    "# Exploratory Data Analysis(EDA)"
   ]
  },
  {
   "cell_type": "code",
   "execution_count": 71,
   "id": "c69100e7-d279-4ad1-b7b0-3bd0f7fe00d7",
   "metadata": {},
   "outputs": [],
   "source": [
    "import matplotlib.pyplot as plt\n",
    "import seaborn as sns"
   ]
  },
  {
   "cell_type": "code",
   "execution_count": 87,
   "id": "20b3d721-5dec-4d47-b5bd-295bdd1672f6",
   "metadata": {},
   "outputs": [
    {
     "name": "stderr",
     "output_type": "stream",
     "text": [
      "No artists with labels found to put in legend.  Note that artists whose label start with an underscore are ignored when legend() is called with no argument.\n"
     ]
    },
    {
     "data": {
      "image/png": "[encoded data removed]",
      "text/plain": [
       "<Figure size 800x400 with 1 Axes>"
      ]
     },
     "metadata": {},
     "output_type": "display_data"
    }
   ],
   "source": [
    "# Bar plot: Count of orders per Plant Code\n",
    "plt.figure(figsize=(8, 4))\n",
    "sns.countplot(x='Plant Code', data=df_OrderList)\n",
    "plt.title('Number of Orders by Plant Code and Product ID')\n",
    "plt.xlabel('Plant Code')\n",
    "plt.ylabel('Number of Orders')\n",
    "plt.legend(title='Product ID')\n",
    "plt.show()"
   ]
  },
  {
   "cell_type": "code",
   "execution_count": 94,
   "id": "792aad45-b7db-4cb7-873c-c7d66090654d",
   "metadata": {},
   "outputs": [
    {
     "data": {
      "image/png": "[encoded data removed]",
      "text/plain": [
       "<Figure size 600x400 with 2 Axes>"
      ]
     },
     "metadata": {},
     "output_type": "display_data"
    }
   ],
   "source": [
    "pivot_table = df_OrderList.pivot_table(index='Origin Port', columns='Destination Port', aggfunc='size', fill_value=0)\n",
    "\n",
    "# Plot heatmap\n",
    "plt.figure(figsize=(6, 4))\n",
    "sns.heatmap(pivot_table, annot=True, cmap='Blues', cbar=True, fmt='d')\n",
    "plt.title('Count of Orders from Origin Port to Destination Port')\n",
    "plt.xlabel('Destination Port')\n",
    "plt.ylabel('Origin Port')\n",
    "plt.show()"
   ]
  },
  {
   "cell_type": "code",
   "execution_count": 97,
   "id": "4e31bdbf-b4a0-49b2-8ffe-4d78e996f875",
   "metadata": {},
   "outputs": [
    {
     "data": {
      "image/png": "[encoded data removed]",
      "text/plain": [
       "<Figure size 600x400 with 1 Axes>"
      ]
     },
     "metadata": {},
     "output_type": "display_data"
    }
   ],
   "source": [
    "# Calculate the average of Unit quantity per Plant Code\n",
    "average_unit_quantity = df_OrderList.groupby('Plant Code')['Unit quantity'].mean().reset_index()\n",
    "\n",
    "# Rename columns for clarity\n",
    "average_unit_quantity.columns = ['Plant Code', 'Average Unit Quantity']\n",
    "\n",
    "# Plot heatmap\n",
    "plt.figure(figsize=(6, 4))\n",
    "sns.countplot(x='Plant Code', data=average_unit_quantity)\n",
    "plt.title('Average Unit Quantity per Plant Code')\n",
    "plt.xlabel('Plant Code')\n",
    "plt.ylabel('Average Unit Quantity')\n",
    "plt.show()"
   ]
  },
  {
   "cell_type": "code",
   "execution_count": 112,
   "id": "01627daa-6f09-4905-968a-25308b510496",
   "metadata": {},
   "outputs": [
    {
     "data": {
      "text/html": [
       "<div>\n",
       "<style scoped>\n",
       "    .dataframe tbody tr th:only-of-type {\n",
       "        vertical-align: middle;\n",
       "    }\n",
       "\n",
       "    .dataframe tbody tr th {\n",
       "        vertical-align: top;\n",
       "    }\n",
       "\n",
       "    .dataframe thead th {\n",
       "        text-align: right;\n",
       "    }\n",
       "</style>\n",
       "<table border=\"1\" class=\"dataframe\">\n",
       "  <thead>\n",
       "    <tr style=\"text-align: right;\">\n",
       "      <th></th>\n",
       "      <th>index</th>\n",
       "      <th>0</th>\n",
       "    </tr>\n",
       "  </thead>\n",
       "  <tbody>\n",
       "    <tr>\n",
       "      <th>0</th>\n",
       "      <td>minm_wgh_qty</td>\n",
       "      <td>155.886637</td>\n",
       "    </tr>\n",
       "    <tr>\n",
       "      <th>1</th>\n",
       "      <td>max_wgh_qty</td>\n",
       "      <td>4570.091943</td>\n",
       "    </tr>\n",
       "  </tbody>\n",
       "</table>\n",
       "</div>"
      ],
      "text/plain": [
       "          index            0\n",
       "0  minm_wgh_qty   155.886637\n",
       "1   max_wgh_qty  4570.091943"
      ]
     },
     "execution_count": 112,
     "metadata": {},
     "output_type": "execute_result"
    }
   ],
   "source": [
    "# Calculate the average of minm_wgh_qty and max_wgh_qty\n",
    "averages = df_FreightRates[['minm_wgh_qty', 'max_wgh_qty']].mean().reset_index()\n",
    "averages"
   ]
  },
  {
   "cell_type": "code",
   "execution_count": 114,
   "id": "b0302734-54e1-4a25-9df4-e031f90528d2",
   "metadata": {},
   "outputs": [
    {
     "data": {
      "image/png": "[encoded data removed]",
      "text/plain": [
       "<Figure size 1000x600 with 1 Axes>"
      ]
     },
     "metadata": {},
     "output_type": "display_data"
    }
   ],
   "source": [
    "# Rename columns for clarity\n",
    "averages.columns = ['Weight Category', 'Average']\n",
    "\n",
    "# Prepare data for plotting\n",
    "plot_data = averages.melt(id_vars='Weight Category', var_name='Category', value_name='Avg_Value')\n",
    "\n",
    "# Plot\n",
    "plt.figure(figsize=(10, 6))\n",
    "sns.barplot(x='Weight Category', y='Avg_Value', data=plot_data)\n",
    "plt.title('Average of Weight Categories')\n",
    "plt.xlabel('Weight Category')\n",
    "plt.ylabel('Average')\n",
    "plt.show()"
   ]
  },
  {
   "cell_type": "code",
   "execution_count": 117,
   "id": "f18e2d9c-0e56-461b-becb-0c48b6c07912",
   "metadata": {},
   "outputs": [
    {
     "data": {
      "image/png": "[encoded data removed]",
      "text/plain": [
       "<Figure size 800x400 with 2 Axes>"
      ]
     },
     "metadata": {},
     "output_type": "display_data"
    }
   ],
   "source": [
    "# Aggregate data by count\n",
    "heatmap_data = pd.crosstab(df_PlantPorts['Plant Code'], df_PlantPorts['Port'])\n",
    "\n",
    "plt.figure(figsize=(8, 4))\n",
    "sns.heatmap(heatmap_data, annot=True, cmap='YlGnBu', fmt='d')\n",
    "plt.title('Heatmap of Plant Code vs Port')\n",
    "plt.xlabel('Port')\n",
    "plt.ylabel('Plant Code')\n",
    "plt.show()\n"
   ]
  },
  {
   "cell_type": "code",
   "execution_count": 118,
   "id": "f74da14f-a223-4945-a874-5d41beaa8648",
   "metadata": {},
   "outputs": [],
   "source": [
    "# Count unique Product IDs for each Plant Code\n",
    "unique_product_counts = df_ProductsPerPlant.groupby('Plant Code')['Product ID'].nunique().reset_index()\n",
    "unique_product_counts.columns = ['Plant Code', 'Unique Product Count']"
   ]
  },
  {
   "cell_type": "code",
   "execution_count": 120,
   "id": "8335699d-1a9e-4bba-a8ac-089534664d4e",
   "metadata": {},
   "outputs": [
    {
     "data": {
      "image/png": "[encoded data removed]",
      "text/plain": [
       "<Figure size 800x400 with 1 Axes>"
      ]
     },
     "metadata": {},
     "output_type": "display_data"
    }
   ],
   "source": [
    "plt.figure(figsize=(8, 4))\n",
    "sns.barplot(x='Plant Code', y='Unique Product Count', data=unique_product_counts, palette='viridis')\n",
    "plt.title('Count of Unique Product IDs by Plant Code')\n",
    "plt.xlabel('Plant Code')\n",
    "plt.ylabel('Unique Product Count')\n",
    "plt.xticks(rotation=90)\n",
    "\n",
    "plt.show()"
   ]
  },
  {
   "cell_type": "code",
   "execution_count": 128,
   "id": "5c5b9b7a-712f-4cbc-ade2-875f834c419a",
   "metadata": {},
   "outputs": [
    {
     "data": {
      "image/png": "[encoded data removed]",
      "text/plain": [
       "<Figure size 800x400 with 1 Axes>"
      ]
     },
     "metadata": {},
     "output_type": "display_data"
    }
   ],
   "source": [
    "# Aggregate the data\n",
    "capacity_sum = df_WhCapacities.groupby('Plant ID')['Daily Capacity '].sum().reset_index()\n",
    "\n",
    "# Plot\n",
    "plt.figure(figsize=(8, 4))\n",
    "sns.barplot(x='Plant ID', y='Daily Capacity ', data=capacity_sum, palette='viridis')\n",
    "plt.title('Sum of Daily Capacity by Plant ID')\n",
    "plt.xlabel('Plant ID')\n",
    "plt.ylabel('Sum of Daily Capacity')\n",
    "\n",
    "# Rotate x-axis \n",
    "plt.xticks(rotation=45)\n",
    "\n",
    "plt.show()"
   ]
  },
  {
   "cell_type": "code",
   "execution_count": 135,
   "id": "2aa730dc-7388-48ff-afd5-ccdefbf4d6bb",
   "metadata": {},
   "outputs": [
    {
     "data": {
      "image/png": "[encoded data removed]",
      "text/plain": [
       "<Figure size 640x480 with 1 Axes>"
      ]
     },
     "metadata": {},
     "output_type": "display_data"
    }
   ],
   "source": [
    "\n",
    "# Calculate the average cost per unit by Plant ID\n",
    "average_cost_per_unit = df_WhCosts.groupby('Plant ID')['Cost/unit'].mean().reset_index()\n",
    "average_cost_per_unit.columns = ['Plant ID', 'Average Cost per Unit']\n",
    "\n",
    "# Plot\n",
    "sns.barplot(x='Plant ID', y='Average Cost per Unit', data=average_cost_per_unit, palette='viridis')\n",
    "plt.title('Average Cost per Unit by Plant ID')\n",
    "plt.xlabel('Plant ID')\n",
    "plt.ylabel('Average Cost per Unit')\n",
    "plt.xticks(rotation=45)\n",
    "plt.show()\n"
   ]
  },
  {
   "cell_type": "code",
   "execution_count": null,
   "id": "8a10607e-fa00-4449-b3bd-a533b1fe5238",
   "metadata": {},
   "outputs": [],
   "source": []
  },
  {
   "cell_type": "markdown",
   "id": "5d526f23-77c1-4741-aa89-647894ee8586",
   "metadata": {},
   "source": [
    "# 1.Historical Cost Calculation:\n"
   ]
  },
  {
   "cell_type": "code",
   "execution_count": 140,
   "id": "0f93a3b8-18dc-4de3-9465-6621a56f4c57",
   "metadata": {},
   "outputs": [],
   "source": [
    "# Rename column 'Plant Code' from df_OrderList  for consistency\n",
    "df_OrderList = df_OrderList.rename(columns={'Plant Code': 'Plant ID'})\n",
    "df_WhCosts = df_WhCosts.rename(columns ={'WH':'Plant ID' })"
   ]
  },
  {
   "cell_type": "code",
   "execution_count": 141,
   "id": "40d4133f-6136-44d3-b4ba-a2380fa75a78",
   "metadata": {},
   "outputs": [],
   "source": [
    "# Merge the dataframes on 'WH' and 'Product ID'\n",
    "merged_df = pd.merge(df_OrderList, df_WhCosts, on='Plant ID')"
   ]
  },
  {
   "cell_type": "code",
   "execution_count": 142,
   "id": "7ebfc6e8-0832-4af7-ab04-1092bbd3f3c9",
   "metadata": {},
   "outputs": [
    {
     "name": "stdout",
     "output_type": "stream",
     "text": [
      "Total Historical Cost of Order Fulfillment: 15704718.23\n"
     ]
    }
   ],
   "source": [
    "# Calculate the total historical cost\n",
    "merged_df['Total Cost'] = merged_df['Unit quantity'] * merged_df['Cost/unit']\n",
    "\n",
    "# Sum up the total costs to get the overall historical cost of order fulfillment\n",
    "total_historical_cost = merged_df['Total Cost'].sum()\n",
    "\n",
    "print(f\"Total Historical Cost of Order Fulfillment: {total_historical_cost}\")"
   ]
  },
  {
   "cell_type": "markdown",
   "id": "c2df6c7f-4760-4892-bb4f-d29fe7eb7399",
   "metadata": {},
   "source": [
    "# 2.Capacity Utilization:\r\n"
   ]
  },
  {
   "cell_type": "code",
   "execution_count": 143,
   "id": "c72be945-a272-4d67-87c0-8c60fe794a88",
   "metadata": {},
   "outputs": [
    {
     "data": {
      "text/html": [
       "<div>\n",
       "<style scoped>\n",
       "    .dataframe tbody tr th:only-of-type {\n",
       "        vertical-align: middle;\n",
       "    }\n",
       "\n",
       "    .dataframe tbody tr th {\n",
       "        vertical-align: top;\n",
       "    }\n",
       "\n",
       "    .dataframe thead th {\n",
       "        text-align: right;\n",
       "    }\n",
       "</style>\n",
       "<table border=\"1\" class=\"dataframe\">\n",
       "  <thead>\n",
       "    <tr style=\"text-align: right;\">\n",
       "      <th></th>\n",
       "      <th>Plant ID</th>\n",
       "      <th>Order Date</th>\n",
       "      <th>Daily Orders</th>\n",
       "    </tr>\n",
       "  </thead>\n",
       "  <tbody>\n",
       "    <tr>\n",
       "      <th>0</th>\n",
       "      <td>PLANT03</td>\n",
       "      <td>2013-05-26</td>\n",
       "      <td>8541</td>\n",
       "    </tr>\n",
       "    <tr>\n",
       "      <th>1</th>\n",
       "      <td>PLANT04</td>\n",
       "      <td>2013-05-26</td>\n",
       "      <td>1</td>\n",
       "    </tr>\n",
       "    <tr>\n",
       "      <th>2</th>\n",
       "      <td>PLANT08</td>\n",
       "      <td>2013-05-26</td>\n",
       "      <td>102</td>\n",
       "    </tr>\n",
       "    <tr>\n",
       "      <th>3</th>\n",
       "      <td>PLANT09</td>\n",
       "      <td>2013-05-26</td>\n",
       "      <td>12</td>\n",
       "    </tr>\n",
       "    <tr>\n",
       "      <th>4</th>\n",
       "      <td>PLANT12</td>\n",
       "      <td>2013-05-26</td>\n",
       "      <td>300</td>\n",
       "    </tr>\n",
       "    <tr>\n",
       "      <th>5</th>\n",
       "      <td>PLANT13</td>\n",
       "      <td>2013-05-26</td>\n",
       "      <td>86</td>\n",
       "    </tr>\n",
       "    <tr>\n",
       "      <th>6</th>\n",
       "      <td>PLANT16</td>\n",
       "      <td>2013-05-26</td>\n",
       "      <td>173</td>\n",
       "    </tr>\n",
       "  </tbody>\n",
       "</table>\n",
       "</div>"
      ],
      "text/plain": [
       "  Plant ID Order Date  Daily Orders\n",
       "0  PLANT03 2013-05-26          8541\n",
       "1  PLANT04 2013-05-26             1\n",
       "2  PLANT08 2013-05-26           102\n",
       "3  PLANT09 2013-05-26            12\n",
       "4  PLANT12 2013-05-26           300\n",
       "5  PLANT13 2013-05-26            86\n",
       "6  PLANT16 2013-05-26           173"
      ]
     },
     "execution_count": 143,
     "metadata": {},
     "output_type": "execute_result"
    }
   ],
   "source": [
    "\n",
    "# Group the orders by warehouse and date, and count the number of orders per day\n",
    "daily_order_counts = df_OrderList.groupby(['Plant ID', 'Order Date']).size().reset_index(name='Daily Orders')\n",
    "daily_order_counts"
   ]
  },
  {
   "cell_type": "code",
   "execution_count": 144,
   "id": "2c00f069-7067-4c73-8f65-e9e1431f3b4b",
   "metadata": {},
   "outputs": [
    {
     "data": {
      "text/html": [
       "<div>\n",
       "<style scoped>\n",
       "    .dataframe tbody tr th:only-of-type {\n",
       "        vertical-align: middle;\n",
       "    }\n",
       "\n",
       "    .dataframe tbody tr th {\n",
       "        vertical-align: top;\n",
       "    }\n",
       "\n",
       "    .dataframe thead th {\n",
       "        text-align: right;\n",
       "    }\n",
       "</style>\n",
       "<table border=\"1\" class=\"dataframe\">\n",
       "  <thead>\n",
       "    <tr style=\"text-align: right;\">\n",
       "      <th></th>\n",
       "      <th>Plant ID</th>\n",
       "      <th>Order Date</th>\n",
       "      <th>Daily Orders</th>\n",
       "      <th>Daily Capacity</th>\n",
       "    </tr>\n",
       "  </thead>\n",
       "  <tbody>\n",
       "    <tr>\n",
       "      <th>0</th>\n",
       "      <td>PLANT03</td>\n",
       "      <td>2013-05-26</td>\n",
       "      <td>8541</td>\n",
       "      <td>1013</td>\n",
       "    </tr>\n",
       "    <tr>\n",
       "      <th>1</th>\n",
       "      <td>PLANT04</td>\n",
       "      <td>2013-05-26</td>\n",
       "      <td>1</td>\n",
       "      <td>554</td>\n",
       "    </tr>\n",
       "    <tr>\n",
       "      <th>2</th>\n",
       "      <td>PLANT08</td>\n",
       "      <td>2013-05-26</td>\n",
       "      <td>102</td>\n",
       "      <td>14</td>\n",
       "    </tr>\n",
       "    <tr>\n",
       "      <th>3</th>\n",
       "      <td>PLANT09</td>\n",
       "      <td>2013-05-26</td>\n",
       "      <td>12</td>\n",
       "      <td>11</td>\n",
       "    </tr>\n",
       "    <tr>\n",
       "      <th>4</th>\n",
       "      <td>PLANT12</td>\n",
       "      <td>2013-05-26</td>\n",
       "      <td>300</td>\n",
       "      <td>209</td>\n",
       "    </tr>\n",
       "    <tr>\n",
       "      <th>5</th>\n",
       "      <td>PLANT13</td>\n",
       "      <td>2013-05-26</td>\n",
       "      <td>86</td>\n",
       "      <td>490</td>\n",
       "    </tr>\n",
       "    <tr>\n",
       "      <th>6</th>\n",
       "      <td>PLANT16</td>\n",
       "      <td>2013-05-26</td>\n",
       "      <td>173</td>\n",
       "      <td>457</td>\n",
       "    </tr>\n",
       "  </tbody>\n",
       "</table>\n",
       "</div>"
      ],
      "text/plain": [
       "  Plant ID Order Date  Daily Orders  Daily Capacity \n",
       "0  PLANT03 2013-05-26          8541             1013\n",
       "1  PLANT04 2013-05-26             1              554\n",
       "2  PLANT08 2013-05-26           102               14\n",
       "3  PLANT09 2013-05-26            12               11\n",
       "4  PLANT12 2013-05-26           300              209\n",
       "5  PLANT13 2013-05-26            86              490\n",
       "6  PLANT16 2013-05-26           173              457"
      ]
     },
     "execution_count": 144,
     "metadata": {},
     "output_type": "execute_result"
    }
   ],
   "source": [
    "\n",
    "# Merge the daily order counts with warehouse capacities\n",
    "merged_df = pd.merge(daily_order_counts, df_WhCapacities, on='Plant ID')\n",
    "merged_df\n"
   ]
  },
  {
   "cell_type": "code",
   "execution_count": 147,
   "id": "48718cfb-bf7d-4780-9fb9-f37ccb9668cc",
   "metadata": {},
   "outputs": [
    {
     "name": "stdout",
     "output_type": "stream",
     "text": [
      "  Plant ID  Capacity Utilization\n",
      "0  PLANT03            843.139191\n",
      "1  PLANT04              0.180505\n",
      "2  PLANT08            728.571429\n",
      "3  PLANT09            109.090909\n",
      "4  PLANT12            143.540670\n",
      "5  PLANT13             17.551020\n",
      "6  PLANT16             37.855580\n"
     ]
    }
   ],
   "source": [
    "\n",
    "# Calculate capacity utilization\n",
    "merged_df['Capacity Utilization'] = (merged_df['Daily Orders'] / merged_df['Daily Capacity ']) * 100\n",
    "\n",
    "# Group by Plant ID to get average capacity utilization for each plant\n",
    "capacity_utilization_summary = merged_df.groupby('Plant ID')['Capacity Utilization'].mean().reset_index()\n",
    "\n",
    "print(capacity_utilization_summary)"
   ]
  },
  {
   "cell_type": "markdown",
   "id": "ee93b386-4dec-4e46-b570-6f99fb39d8fd",
   "metadata": {},
   "source": [
    "# 3.Freight Cost Analysis:\n"
   ]
  },
  {
   "cell_type": "code",
   "execution_count": 149,
   "id": "e9b0e47a-3026-4eb5-aac4-3ad098e07a47",
   "metadata": {},
   "outputs": [
    {
     "data": {
      "text/html": [
       "<div>\n",
       "<style scoped>\n",
       "    .dataframe tbody tr th:only-of-type {\n",
       "        vertical-align: middle;\n",
       "    }\n",
       "\n",
       "    .dataframe tbody tr th {\n",
       "        vertical-align: top;\n",
       "    }\n",
       "\n",
       "    .dataframe thead th {\n",
       "        text-align: right;\n",
       "    }\n",
       "</style>\n",
       "<table border=\"1\" class=\"dataframe\">\n",
       "  <thead>\n",
       "    <tr style=\"text-align: right;\">\n",
       "      <th></th>\n",
       "      <th>Order ID</th>\n",
       "      <th>Order Date</th>\n",
       "      <th>orig_port_cd</th>\n",
       "      <th>Carrier</th>\n",
       "      <th>TPT</th>\n",
       "      <th>Service Level</th>\n",
       "      <th>Ship ahead day count</th>\n",
       "      <th>Ship Late Day count</th>\n",
       "      <th>Customer</th>\n",
       "      <th>Product ID</th>\n",
       "      <th>...</th>\n",
       "      <th>Unit quantity</th>\n",
       "      <th>Weight</th>\n",
       "      <th>minm_wgh_qty</th>\n",
       "      <th>max_wgh_qty</th>\n",
       "      <th>svc_cd</th>\n",
       "      <th>minimum cost</th>\n",
       "      <th>rate</th>\n",
       "      <th>mode_dsc</th>\n",
       "      <th>tpt_day_cnt</th>\n",
       "      <th>Carrier type</th>\n",
       "    </tr>\n",
       "  </thead>\n",
       "  <tbody>\n",
       "    <tr>\n",
       "      <th>0</th>\n",
       "      <td>1447296447</td>\n",
       "      <td>2013-05-26</td>\n",
       "      <td>PORT09</td>\n",
       "      <td>V44_3</td>\n",
       "      <td>1</td>\n",
       "      <td>CRF</td>\n",
       "      <td>3</td>\n",
       "      <td>0</td>\n",
       "      <td>V55555_53</td>\n",
       "      <td>1700106</td>\n",
       "      <td>...</td>\n",
       "      <td>808</td>\n",
       "      <td>14.30</td>\n",
       "      <td>NaN</td>\n",
       "      <td>NaN</td>\n",
       "      <td>NaN</td>\n",
       "      <td>NaN</td>\n",
       "      <td>NaN</td>\n",
       "      <td>NaN</td>\n",
       "      <td>NaN</td>\n",
       "      <td>NaN</td>\n",
       "    </tr>\n",
       "    <tr>\n",
       "      <th>1</th>\n",
       "      <td>1447158015</td>\n",
       "      <td>2013-05-26</td>\n",
       "      <td>PORT09</td>\n",
       "      <td>V44_3</td>\n",
       "      <td>1</td>\n",
       "      <td>CRF</td>\n",
       "      <td>3</td>\n",
       "      <td>0</td>\n",
       "      <td>V55555_53</td>\n",
       "      <td>1700106</td>\n",
       "      <td>...</td>\n",
       "      <td>3188</td>\n",
       "      <td>87.94</td>\n",
       "      <td>NaN</td>\n",
       "      <td>NaN</td>\n",
       "      <td>NaN</td>\n",
       "      <td>NaN</td>\n",
       "      <td>NaN</td>\n",
       "      <td>NaN</td>\n",
       "      <td>NaN</td>\n",
       "      <td>NaN</td>\n",
       "    </tr>\n",
       "  </tbody>\n",
       "</table>\n",
       "<p>2 rows × 22 columns</p>\n",
       "</div>"
      ],
      "text/plain": [
       "     Order ID Order Date orig_port_cd Carrier  TPT Service Level  \\\n",
       "0  1447296447 2013-05-26       PORT09   V44_3    1           CRF   \n",
       "1  1447158015 2013-05-26       PORT09   V44_3    1           CRF   \n",
       "\n",
       "   Ship ahead day count  Ship Late Day count   Customer Product ID  ...  \\\n",
       "0                     3                    0  V55555_53    1700106  ...   \n",
       "1                     3                    0  V55555_53    1700106  ...   \n",
       "\n",
       "  Unit quantity Weight  minm_wgh_qty  max_wgh_qty  svc_cd  minimum cost rate  \\\n",
       "0           808  14.30           NaN          NaN     NaN           NaN  NaN   \n",
       "1          3188  87.94           NaN          NaN     NaN           NaN  NaN   \n",
       "\n",
       "   mode_dsc  tpt_day_cnt Carrier type  \n",
       "0       NaN          NaN          NaN  \n",
       "1       NaN          NaN          NaN  \n",
       "\n",
       "[2 rows x 22 columns]"
      ]
     },
     "execution_count": 149,
     "metadata": {},
     "output_type": "execute_result"
    }
   ],
   "source": [
    "# Ensuring columns match for merge\n",
    "df_OrderList.rename(columns={'Origin Port': 'orig_port_cd', 'Destination Port': 'dest_port_cd'}, inplace=True)\n",
    "\n",
    "# Merge the DataFrames\n",
    "df_merged = pd.merge(df_OrderList, df_FreightRates, how='left', on=['Carrier', 'orig_port_cd', 'dest_port_cd'])\n",
    "df_merged.head(2)"
   ]
  },
  {
   "cell_type": "code",
   "execution_count": 153,
   "id": "668fb091-d367-4f5b-9b31-b93e6ca32686",
   "metadata": {},
   "outputs": [
    {
     "data": {
      "text/html": [
       "<div>\n",
       "<style scoped>\n",
       "    .dataframe tbody tr th:only-of-type {\n",
       "        vertical-align: middle;\n",
       "    }\n",
       "\n",
       "    .dataframe tbody tr th {\n",
       "        vertical-align: top;\n",
       "    }\n",
       "\n",
       "    .dataframe thead th {\n",
       "        text-align: right;\n",
       "    }\n",
       "</style>\n",
       "<table border=\"1\" class=\"dataframe\">\n",
       "  <thead>\n",
       "    <tr style=\"text-align: right;\">\n",
       "      <th></th>\n",
       "      <th>Order ID</th>\n",
       "      <th>Order Date</th>\n",
       "      <th>orig_port_cd</th>\n",
       "      <th>Carrier</th>\n",
       "      <th>TPT</th>\n",
       "      <th>Service Level</th>\n",
       "      <th>Ship ahead day count</th>\n",
       "      <th>Ship Late Day count</th>\n",
       "      <th>Customer</th>\n",
       "      <th>Product ID</th>\n",
       "      <th>...</th>\n",
       "      <th>Weight</th>\n",
       "      <th>minm_wgh_qty</th>\n",
       "      <th>max_wgh_qty</th>\n",
       "      <th>svc_cd</th>\n",
       "      <th>minimum cost</th>\n",
       "      <th>rate</th>\n",
       "      <th>mode_dsc</th>\n",
       "      <th>tpt_day_cnt</th>\n",
       "      <th>Carrier type</th>\n",
       "      <th>Freight Cost</th>\n",
       "    </tr>\n",
       "  </thead>\n",
       "  <tbody>\n",
       "    <tr>\n",
       "      <th>0</th>\n",
       "      <td>1447296447</td>\n",
       "      <td>2013-05-26</td>\n",
       "      <td>PORT09</td>\n",
       "      <td>V44_3</td>\n",
       "      <td>1</td>\n",
       "      <td>CRF</td>\n",
       "      <td>3</td>\n",
       "      <td>0</td>\n",
       "      <td>V55555_53</td>\n",
       "      <td>1700106</td>\n",
       "      <td>...</td>\n",
       "      <td>14.30</td>\n",
       "      <td>NaN</td>\n",
       "      <td>NaN</td>\n",
       "      <td>NaN</td>\n",
       "      <td>NaN</td>\n",
       "      <td>NaN</td>\n",
       "      <td>NaN</td>\n",
       "      <td>NaN</td>\n",
       "      <td>NaN</td>\n",
       "      <td>NaN</td>\n",
       "    </tr>\n",
       "    <tr>\n",
       "      <th>1</th>\n",
       "      <td>1447158015</td>\n",
       "      <td>2013-05-26</td>\n",
       "      <td>PORT09</td>\n",
       "      <td>V44_3</td>\n",
       "      <td>1</td>\n",
       "      <td>CRF</td>\n",
       "      <td>3</td>\n",
       "      <td>0</td>\n",
       "      <td>V55555_53</td>\n",
       "      <td>1700106</td>\n",
       "      <td>...</td>\n",
       "      <td>87.94</td>\n",
       "      <td>NaN</td>\n",
       "      <td>NaN</td>\n",
       "      <td>NaN</td>\n",
       "      <td>NaN</td>\n",
       "      <td>NaN</td>\n",
       "      <td>NaN</td>\n",
       "      <td>NaN</td>\n",
       "      <td>NaN</td>\n",
       "      <td>NaN</td>\n",
       "    </tr>\n",
       "  </tbody>\n",
       "</table>\n",
       "<p>2 rows × 23 columns</p>\n",
       "</div>"
      ],
      "text/plain": [
       "     Order ID Order Date orig_port_cd Carrier  TPT Service Level  \\\n",
       "0  1447296447 2013-05-26       PORT09   V44_3    1           CRF   \n",
       "1  1447158015 2013-05-26       PORT09   V44_3    1           CRF   \n",
       "\n",
       "   Ship ahead day count  Ship Late Day count   Customer Product ID  ...  \\\n",
       "0                     3                    0  V55555_53    1700106  ...   \n",
       "1                     3                    0  V55555_53    1700106  ...   \n",
       "\n",
       "  Weight minm_wgh_qty  max_wgh_qty  svc_cd  minimum cost  rate mode_dsc  \\\n",
       "0  14.30          NaN          NaN     NaN           NaN   NaN      NaN   \n",
       "1  87.94          NaN          NaN     NaN           NaN   NaN      NaN   \n",
       "\n",
       "   tpt_day_cnt  Carrier type Freight Cost  \n",
       "0          NaN           NaN          NaN  \n",
       "1          NaN           NaN          NaN  \n",
       "\n",
       "[2 rows x 23 columns]"
      ]
     },
     "execution_count": 153,
     "metadata": {},
     "output_type": "execute_result"
    }
   ],
   "source": [
    "\n",
    "# Calculate the freight cost for each order\n",
    "df_merged['Freight Cost'] = df_merged['minimum cost'] + (df_merged['Weight'] * df_merged['rate'])\n",
    "df_merged.head(2)"
   ]
  },
  {
   "cell_type": "code",
   "execution_count": 164,
   "id": "6e8d6dd1-1187-4c82-85d9-f8b11e605204",
   "metadata": {},
   "outputs": [
    {
     "name": "stdout",
     "output_type": "stream",
     "text": [
      "The total Freight Cost is:$2461358.2234439584\n"
     ]
    }
   ],
   "source": [
    "# Summarize the total freight costs\n",
    "total_freight_cost = df_merged['Freight Cost'].sum()\n",
    "print(f\"The total Freight Cost is:${total_freight_cost}\")\n"
   ]
  },
  {
   "cell_type": "markdown",
   "id": "4ffbb4e0-c793-41b0-8c78-d97495272a43",
   "metadata": {},
   "source": [
    "# 4. Optimization Model:\n"
   ]
  },
  {
   "cell_type": "markdown",
   "id": "64e01612-f667-46fe-9bcf-f8890df421e5",
   "metadata": {},
   "source": [
    "Before building Optimization model, Lets take a look at the constraints of the given data:\n",
    "\n",
    "Problem Constraints:\n",
    "Warehouse Capacities: Each warehouse has a maximum capacity of orders it can handle per day (WhCapacities).\n",
    "\n",
    "Product-Warehouse Compatibility: Only specific products can be stored in specific warehouses (ProductsPerPlant).\n",
    "\n",
    "Customer-Warehouse Restrictions: Some customers can only be served by specific warehouses (VmiCustomers).\n",
    "\n",
    "Freight Costs: Transportation costs depend on the weight of the shipment and the distance between source and destination (FreightRates).\n",
    "\n",
    "Transportation Time: Estimated shipping time is considered for optimal route planning (tpt_day_cnt in FreightRates).\n",
    "\n",
    "Storage Costs: Costs associated with storing products in warehouses (WhCosts).\n"
   ]
  },
  {
   "cell_type": "code",
   "execution_count": 165,
   "id": "cef9f9ad-2fc4-4c09-8a5f-44b3e91ad622",
   "metadata": {},
   "outputs": [],
   "source": [
    "from pulp import LpMinimize, LpProblem, LpVariable, lpSum, LpStatus\n"
   ]
  },
  {
   "cell_type": "code",
   "execution_count": 183,
   "id": "4dae2208-8d5b-4a35-9f86-00b05705e9b1",
   "metadata": {},
   "outputs": [],
   "source": [
    "def run_optimization(wh_capacities, wh_costs, df_FreightRates, df_OrderList, products_per_warehouse, customer_warehouse_restrictions):\n",
    "    # Initialize the LP problem\n",
    "    prob = LpProblem(\"OrderRoutingOptimization\", LpMinimize)\n",
    "\n",
    "    # Create list of orders with needed details\n",
    "    orders = df_OrderList[['Customer', 'Product ID', 'Unit quantity', 'Weight', 'orig_port_cd', 'dest_port_cd', 'Carrier']].values.tolist()\n",
    "\n",
    "    # Create the decision variables\n",
    "    x = LpVariable.dicts(\"ship\", [(order[0], order[1], warehouse) for order in orders for warehouse in wh_capacities.keys()], 0, None, cat='Continuous')\n",
    "\n",
    "    # Objective function: Minimize total cost (storage + freight)\n",
    "    objective_terms = []\n",
    "\n",
    "    HIGH_DEFAULT_COST = 1e6  # High but finite default cost\n",
    "\n",
    "    for order in orders:\n",
    "        for warehouse in wh_capacities.keys():\n",
    "            wh_cost = wh_costs.get(warehouse, HIGH_DEFAULT_COST)  # Use HIGH_DEFAULT_COST if no cost found\n",
    "            \n",
    "            rate_query = df_FreightRates[\n",
    "                (df_FreightRates['orig_port_cd'] == order[4]) & \n",
    "                (df_FreightRates['dest_port_cd'] == order[5]) & \n",
    "                (df_FreightRates['Carrier'] == order[6])\n",
    "            ]\n",
    "            \n",
    "            if not rate_query.empty:\n",
    "                rate = rate_query['rate'].values[0]\n",
    "            else:\n",
    "                rate = HIGH_DEFAULT_COST\n",
    "            \n",
    "            if not pd.isna(wh_cost) and not pd.isna(rate):\n",
    "                objective_terms.append(x[(order[0], order[1], warehouse)] * (wh_cost + rate))\n",
    "\n",
    "    prob += lpSum(objective_terms)\n",
    "\n",
    "    # Constraints\n",
    "    # 1. Warehouse Capacities\n",
    "    for warehouse in wh_capacities.keys():\n",
    "        prob += lpSum([x[(order[0], order[1], warehouse)] for order in orders]) <= wh_capacities[warehouse]\n",
    "\n",
    "    # 2. Product-Warehouse Compatibility\n",
    "    for order in orders:\n",
    "        for warehouse in wh_capacities.keys():\n",
    "            if (warehouse, order[1]) not in products_per_warehouse:\n",
    "                prob += x[(order[0], order[1], warehouse)] == 0\n",
    "\n",
    "    # 3. Customer-Warehouse Restrictions\n",
    "    for order in orders:\n",
    "        for warehouse in wh_capacities.keys():\n",
    "            if (warehouse, order[0]) not in customer_warehouse_restrictions:\n",
    "                prob += x[(order[0], order[1], warehouse)] == 0\n",
    "\n",
    "    # 4. Demand fulfillment\n",
    "    for order in orders:\n",
    "        prob += lpSum([x[(order[0], order[1], warehouse)] for warehouse in wh_capacities.keys()]) == order[2]\n",
    "\n",
    "    # Solve the problem\n",
    "    prob.solve()\n",
    "    \n",
    "\n",
    "    # Collect results\n",
    "    results = {\n",
    "        'status': LpStatus[prob.status],\n",
    "        'total_cost': prob.objective.value(),\n",
    "        'shipment_plan': [(order[0], order[1], warehouse, x[(order[0], order[1], warehouse)].varValue)\n",
    "                          for order in orders for warehouse in wh_capacities.keys()\n",
    "                          if x[(order[0], order[1], warehouse)].varValue > 0]\n",
    "    }\n",
    "\n",
    "    return results\n"
   ]
  },
  {
   "cell_type": "code",
   "execution_count": 184,
   "id": "bf0d3f2f-912a-4ef6-b74c-e5521987cdd5",
   "metadata": {},
   "outputs": [
    {
     "name": "stdout",
     "output_type": "stream",
     "text": [
      "{'status': 'Infeasible', 'total_cost': 1396895732949.3647, 'shipment_plan': [('V55555555_32', '1699574', 'PLANT17', 139689.0), ('V55555555_32', '1699574', 'PLANT17', 139689.0), ('V55555555_32', '1699574', 'PLANT17', 139689.0), ('V55555555_32', '1699574', 'PLANT17', 139689.0), ('V55555555_32', '1699574', 'PLANT17', 139689.0), ('V55555555_32', '1699574', 'PLANT17', 139689.0), ('V55555555_32', '1699574', 'PLANT17', 139689.0), ('V55555555_32', '1699574', 'PLANT17', 139689.0), ('V55555555_32', '1699574', 'PLANT17', 139689.0), ('V55555555_32', '1699574', 'PLANT17', 139689.0), ('V55555_2', '1664051', 'PLANT17', 60306.0), ('V55555_2', '1664051', 'PLANT17', 60306.0), ('V55555_2', '1664051', 'PLANT17', 60306.0), ('V55555_2', '1664051', 'PLANT17', 60306.0), ('V55555_2', '1664051', 'PLANT17', 60306.0), ('V55555_2', '1664051', 'PLANT17', 60306.0), ('V55555_2', '1664051', 'PLANT17', 60306.0), ('V55555_2', '1664051', 'PLANT17', 60306.0), ('V55555_2', '1664051', 'PLANT17', 60306.0), ('V55555_2', '1664051', 'PLANT17', 60306.0), ('V55555_2', '1664051', 'PLANT17', 60306.0), ('V55555_2', '1664051', 'PLANT17', 60306.0), ('V55555_2', '1664051', 'PLANT17', 60306.0), ('V55555_2', '1664051', 'PLANT17', 60306.0), ('V55555_2', '1664051', 'PLANT17', 60306.0), ('V55555_2', '1664051', 'PLANT17', 60306.0), ('V55555_2', '1664051', 'PLANT17', 60306.0), ('V55555_2', '1664051', 'PLANT17', 60306.0), ('V55555_2', '1664051', 'PLANT17', 60306.0), ('V55555_2', '1664051', 'PLANT17', 60306.0), ('V55555_2', '1664051', 'PLANT17', 60306.0), ('V55555_2', '1664051', 'PLANT17', 60306.0), ('V55555_2', '1664051', 'PLANT17', 60306.0), ('V55555_2', '1664051', 'PLANT17', 60306.0), ('V55555_2', '1664051', 'PLANT17', 60306.0), ('V55555_2', '1664051', 'PLANT17', 60306.0), ('V55555_2', '1664051', 'PLANT17', 60306.0), ('V55555_2', '1664051', 'PLANT17', 60306.0), ('V55555_2', '1664051', 'PLANT17', 60306.0), ('V55555_2', '1664051', 'PLANT17', 60306.0), ('V55555_2', '1664051', 'PLANT17', 60306.0), ('V55555_2', '1664051', 'PLANT17', 60306.0), ('V55555_2', '1664051', 'PLANT17', 60306.0), ('V55555_2', '1664051', 'PLANT17', 60306.0), ('V55555_2', '1664051', 'PLANT17', 60306.0), ('V55555555_5', '1700140', 'PLANT07', 24.090909), ('V55555555_5', '1700140', 'PLANT04', 140237.91), ('V55555555_5', '1700140', 'PLANT07', 24.090909), ('V55555555_5', '1700140', 'PLANT04', 140237.91), ('V55555555_5', '1700140', 'PLANT07', 24.090909), ('V55555555_5', '1700140', 'PLANT04', 140237.91), ('V55555555_5', '1700140', 'PLANT07', 24.090909), ('V55555555_5', '1700140', 'PLANT04', 140237.91), ('V55555555_5', '1700140', 'PLANT07', 24.090909), ('V55555555_5', '1700140', 'PLANT04', 140237.91), ('V55555555_5', '1700140', 'PLANT07', 24.090909), ('V55555555_5', '1700140', 'PLANT04', 140237.91), ('V55555555_5', '1700140', 'PLANT07', 24.090909), ('V55555555_5', '1700140', 'PLANT04', 140237.91), ('V55555555_5', '1700140', 'PLANT07', 24.090909), ('V55555555_5', '1700140', 'PLANT04', 140237.91), ('V55555555_5', '1700140', 'PLANT07', 24.090909), ('V55555555_5', '1700140', 'PLANT04', 140237.91), ('V55555555_5', '1700140', 'PLANT07', 24.090909), ('V55555555_5', '1700140', 'PLANT04', 140237.91), ('V55555555_5', '1700140', 'PLANT07', 24.090909), ('V55555555_5', '1700140', 'PLANT04', 140237.91), ('V55555555_5', '1684862', 'PLANT04', 469247.0), ('V55555555_5', '1684862', 'PLANT04', 469247.0), ('V55555555_5', '1684862', 'PLANT04', 469247.0), ('V55555555_5', '1684862', 'PLANT04', 469247.0), ('V55555555_5', '1684862', 'PLANT04', 469247.0), ('V55555555_5', '1684862', 'PLANT04', 469247.0), ('V55555555_5', '1684862', 'PLANT04', 469247.0), ('V55555555_5', '1684862', 'PLANT04', 469247.0), ('V55555555_5', '1684862', 'PLANT04', 469247.0), ('V55555555_5', '1684862', 'PLANT04', 469247.0), ('V55555555_5', '1684862', 'PLANT04', 469247.0), ('V55555555_5', '1684862', 'PLANT04', 469247.0), ('V55555555_5', '1684862', 'PLANT04', 469247.0), ('V55555555_5', '1684862', 'PLANT04', 469247.0), ('V55555555_5', '1684862', 'PLANT04', 469247.0)]}\n"
     ]
    }
   ],
   "source": [
    "result = run_optimization(wh_capacities, wh_costs, df_FreightRates, df_OrderList, products_per_warehouse, customer_warehouse_restrictions)\n",
    "print(result)"
   ]
  },
  {
   "cell_type": "markdown",
   "id": "68a8849d-17c7-4c88-8aa4-0c1150585edf",
   "metadata": {},
   "source": [
    "# 5.Scenario Analysis:"
   ]
  },
  {
   "cell_type": "code",
   "execution_count": 185,
   "id": "432b7067-3d1c-4950-8298-752256ccf981",
   "metadata": {},
   "outputs": [],
   "source": [
    "import copy\n",
    "\n",
    "# Define base parameters\n",
    "base_wh_capacities = df_WhCapacities.set_index('Plant ID')['Daily Capacity '].to_dict()\n",
    "base_wh_costs = df_WhCosts.set_index('Plant ID')['Cost/unit'].to_dict()\n",
    "base_products_per_warehouse = {(row['Plant Code'], row['Product ID']): True for index, row in df_ProductsPerPlant.iterrows()}\n",
    "base_customer_warehouse_restrictions = {(row['Plant Code'], row['Customers']): True for index, row in df_VmiCustomers.iterrows()}\n"
   ]
  },
  {
   "cell_type": "code",
   "execution_count": 186,
   "id": "d4e5ccff-e9df-44fd-a3f1-037b0075729a",
   "metadata": {},
   "outputs": [
    {
     "name": "stdout",
     "output_type": "stream",
     "text": [
      "Base Scenario Total Cost: 1396895732949.3647\n",
      "Scenario 1 Total Cost (20% increase in warehouse capacities): 1396895732946.175\n",
      "Scenario 2 Total Cost (10% decrease in freight rates): 1396895679487.88\n",
      "Scenario 3 Total Cost (additional product compatibility): 1396895732949.3647\n"
     ]
    }
   ],
   "source": [
    "\n",
    "# Scenario 1: Increase warehouse capacities by 20%\n",
    "scenario_1_wh_capacities = {k: v * 1.2 for k, v in base_wh_capacities.items()}\n",
    "scenario_1_results = run_optimization(scenario_1_wh_capacities, base_wh_costs, df_FreightRates, df_OrderList, base_products_per_warehouse, base_customer_warehouse_restrictions)\n",
    "\n",
    "# Scenario 2: Decrease freight rates by 10%\n",
    "scenario_2_FreightRates = df_FreightRates.copy()\n",
    "scenario_2_FreightRates['rate'] *= 0.9\n",
    "scenario_2_results = run_optimization(base_wh_capacities, base_wh_costs, scenario_2_FreightRates, df_OrderList, base_products_per_warehouse, base_customer_warehouse_restrictions)\n",
    "\n",
    "# Scenario 3: Change product compatibility (add one more compatible product-warehouse pair)\n",
    "scenario_3_products_per_warehouse = copy.deepcopy(base_products_per_warehouse)\n",
    "scenario_3_products_per_warehouse[('PLANT18', 'ProductC')] = True\n",
    "scenario_3_results = run_optimization(base_wh_capacities, base_wh_costs, df_FreightRates, df_OrderList, scenario_3_products_per_warehouse, base_customer_warehouse_restrictions)\n",
    "\n",
    "# Print results for comparison\n",
    "print(\"Base Scenario Total Cost:\", run_optimization(base_wh_capacities, base_wh_costs, df_FreightRates, df_OrderList, base_products_per_warehouse, base_customer_warehouse_restrictions)['total_cost'])\n",
    "print(\"Scenario 1 Total Cost (20% increase in warehouse capacities):\", scenario_1_results['total_cost'])\n",
    "print(\"Scenario 2 Total Cost (10% decrease in freight rates):\", scenario_2_results['total_cost'])\n",
    "print(\"Scenario 3 Total Cost (additional product compatibility):\", scenario_3_results['total_cost'])\n"
   ]
  },
  {
   "cell_type": "code",
   "execution_count": 190,
   "id": "aa36fef8-05d5-426a-a8d9-159b5267e99b",
   "metadata": {},
   "outputs": [],
   "source": [
    "# save the dataframes to csv for creating dashboard\n",
    "\n",
    "df_OrderList.to_csv('OrderList.csv', index=False)\n",
    "df_FreightRates.to_csv('FreightRates.csv',index=False)\n",
    "df_PlantPorts.to_csv('PlantPorts.csv',index=False)\n",
    "df_ProductsPerPlant.to_csv('ProductsPerPlant.csv',index=False)\n",
    "df_VmiCustomers.to_csv('VmiCustomers.csv',index=False)\n",
    "df_WhCapacities.to_csv('WhCapacities.csv',index=False)\n",
    "df_WhCosts.to_csv('WhCosts.csv',index=False)"
   ]
  },
  {
   "cell_type": "code",
   "execution_count": null,
   "id": "80a45e3f-e3fb-4d4f-a54e-ee00aa5b8ec4",
   "metadata": {},
   "outputs": [],
   "source": []
  }
 ],
 "metadata": {
  "kernelspec": {
   "display_name": "Python 3 (ipykernel)",
   "language": "python",
   "name": "python3"
  },
  "language_info": {
   "codemirror_mode": {
    "name": "ipython",
    "version": 3
   },
   "file_extension": ".py",
   "mimetype": "text/x-python",
   "name": "python",
   "nbconvert_exporter": "python",
   "pygments_lexer": "ipython3",
   "version": "3.11.7"
  }
 },
 "nbformat": 4,
 "nbformat_minor": 5
}
